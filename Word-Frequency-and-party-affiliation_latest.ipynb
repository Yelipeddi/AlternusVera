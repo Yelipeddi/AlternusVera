{
 "cells": [
  {
   "cell_type": "markdown",
   "metadata": {},
   "source": [
    "\n",
    "\n",
    "### Project Alvera - Abhinaya Yelipeddi (SJSU ID: 012471472)\n",
    "\n",
    "Objective: Create a model to detect fake news.\n",
    "\n",
    "As a part of my word, I did word frequency calculations and Party Affiliation calculation on the liar liar dataset. \n",
    "I performed the following things\n",
    "\n",
    "1. Removed unwanted columns\n",
    "2. Removed columns having null values\n",
    "3. Cleaned rows having null values\n",
    "4. From the speaker's statements, removed stop words\n",
    "5. Removed punctuations and duplicates\n",
    "6. Used porter Stemmer \n",
    "7. Used Word net Lemmatizer\n",
    "8. Removed plurals\n",
    "9. Used Count Vectorizer \n",
    "10. Used TF-IDF Vectorizer\n",
    "11. Used LDA to identify Topics\n",
    "12. After preprocessing, used classifiers to classify for the word frequency.\n",
    "13. Used Multinomial NB, Logistical Regression, Linear SVM, Random Forest etc for classification\n",
    "14. Plotted Confusion matrix and accuracy\n",
    "15. For Party Affiliation, did the steps mentioned from 1 to 14\n",
    "\n",
    "\n",
    "#### 1. Data selection \n",
    "We acquired 3 datasets: FakeNewsCorpus, Liar Liar and Uber Reviews. \n",
    "\n",
    "- **[FakeNewsCorpus](https://github.com/several27/FakeNewsCorpus)**:\n",
    "We first decided to use the FakeNewsCorpus dataset since it is the larger one. In fact, after downloading it we faced the issue that it is so large (~30GB uncompressed) that it was not easy to work with it on a personal computer. So we split that single dataset into smaller files (of 1GB each) and start using it. After an initial analysis we found out that its content were very poluted, containing sometimes even html code inside it. We imagine that it must have appeared during the content scrapping by the dataset author. So, since Machine Learning/Data Science is all about the quality of the data, we decided to not use it this dataset anymore.\n",
    "\n",
    "- **[Uber Reviews](https://www.kaggle.com/purvank/uber-rider-reviews-dataset)**:\n",
    "We acquired a 1,300+ User ride reviews as an extra dataset connected to our project (URide, the Uber competitor). We intent to use that dataset later as an enrichment. But since it only has ~1,300 rows, we decided to use the Liar Liar one in the begining since it is a larger dataset and also has labels\n",
    "\n",
    "- **Liar Liar**:\n",
    "The William Yang Wang, \"Liar, Liar Pants on Fire\" dataset is a very good source for fake news analysis. It has several important data such as speaker, party affiliation and a truthness label ('true','mostly-true','half-true','barely-true','false','pants-fire'). It also has a good size (12,800+ entries, separated in 10,269 (training) + 1,284 (validation) + 1,283 (testing). Therefore we will start tha Alvera project using this dataset.\n",
    "\n"
   ]
  },
  {
   "cell_type": "markdown",
   "metadata": {},
   "source": [
    "### Loading the Liar Liar dataset"
   ]
  },
  {
   "cell_type": "code",
   "execution_count": 1,
   "metadata": {
    "scrolled": false
   },
   "outputs": [
    {
     "data": {
      "text/html": [
       "<div>\n",
       "<style scoped>\n",
       "    .dataframe tbody tr th:only-of-type {\n",
       "        vertical-align: middle;\n",
       "    }\n",
       "\n",
       "    .dataframe tbody tr th {\n",
       "        vertical-align: top;\n",
       "    }\n",
       "\n",
       "    .dataframe thead th {\n",
       "        text-align: right;\n",
       "    }\n",
       "</style>\n",
       "<table border=\"1\" class=\"dataframe\">\n",
       "  <thead>\n",
       "    <tr style=\"text-align: right;\">\n",
       "      <th></th>\n",
       "      <th>id</th>\n",
       "      <th>label</th>\n",
       "      <th>statement</th>\n",
       "      <th>subject</th>\n",
       "      <th>speaker</th>\n",
       "      <th>speaker_job_title</th>\n",
       "      <th>state_info</th>\n",
       "      <th>party_affiliation</th>\n",
       "      <th>barely_true_counts</th>\n",
       "      <th>false_counts</th>\n",
       "      <th>half_true_counts</th>\n",
       "      <th>mostly_true_counts</th>\n",
       "      <th>pants_on_fire_counts</th>\n",
       "      <th>context</th>\n",
       "    </tr>\n",
       "  </thead>\n",
       "  <tbody>\n",
       "    <tr>\n",
       "      <th>10235</th>\n",
       "      <td>5473.json</td>\n",
       "      <td>mostly-true</td>\n",
       "      <td>There are a larger number of shark attacks in ...</td>\n",
       "      <td>animals,elections</td>\n",
       "      <td>aclu-florida</td>\n",
       "      <td>NaN</td>\n",
       "      <td>Florida</td>\n",
       "      <td>none</td>\n",
       "      <td>0.0</td>\n",
       "      <td>1.0</td>\n",
       "      <td>1.0</td>\n",
       "      <td>1.0</td>\n",
       "      <td>0.0</td>\n",
       "      <td>interview on \"The Colbert Report\"</td>\n",
       "    </tr>\n",
       "    <tr>\n",
       "      <th>10236</th>\n",
       "      <td>3408.json</td>\n",
       "      <td>mostly-true</td>\n",
       "      <td>Democrats have now become the party of the [At...</td>\n",
       "      <td>elections</td>\n",
       "      <td>alan-powell</td>\n",
       "      <td>NaN</td>\n",
       "      <td>Georgia</td>\n",
       "      <td>republican</td>\n",
       "      <td>0.0</td>\n",
       "      <td>0.0</td>\n",
       "      <td>0.0</td>\n",
       "      <td>1.0</td>\n",
       "      <td>0.0</td>\n",
       "      <td>an interview</td>\n",
       "    </tr>\n",
       "    <tr>\n",
       "      <th>10237</th>\n",
       "      <td>3959.json</td>\n",
       "      <td>half-true</td>\n",
       "      <td>Says an alternative to Social Security that op...</td>\n",
       "      <td>retirement,social-security</td>\n",
       "      <td>herman-cain</td>\n",
       "      <td>NaN</td>\n",
       "      <td>Georgia</td>\n",
       "      <td>republican</td>\n",
       "      <td>4.0</td>\n",
       "      <td>11.0</td>\n",
       "      <td>5.0</td>\n",
       "      <td>3.0</td>\n",
       "      <td>3.0</td>\n",
       "      <td>a Republican presidential debate</td>\n",
       "    </tr>\n",
       "    <tr>\n",
       "      <th>10238</th>\n",
       "      <td>2253.json</td>\n",
       "      <td>false</td>\n",
       "      <td>On lifting the U.S. Cuban embargo and allowing...</td>\n",
       "      <td>florida,foreign-policy</td>\n",
       "      <td>jeff-greene</td>\n",
       "      <td>NaN</td>\n",
       "      <td>Florida</td>\n",
       "      <td>democrat</td>\n",
       "      <td>3.0</td>\n",
       "      <td>1.0</td>\n",
       "      <td>3.0</td>\n",
       "      <td>0.0</td>\n",
       "      <td>0.0</td>\n",
       "      <td>a televised debate on Miami's WPLG-10 against ...</td>\n",
       "    </tr>\n",
       "    <tr>\n",
       "      <th>10239</th>\n",
       "      <td>1155.json</td>\n",
       "      <td>pants-fire</td>\n",
       "      <td>The Department of Veterans Affairs has a manua...</td>\n",
       "      <td>health-care,veterans</td>\n",
       "      <td>michael-steele</td>\n",
       "      <td>chairman of the Republican National Committee</td>\n",
       "      <td>Maryland</td>\n",
       "      <td>republican</td>\n",
       "      <td>0.0</td>\n",
       "      <td>1.0</td>\n",
       "      <td>1.0</td>\n",
       "      <td>0.0</td>\n",
       "      <td>2.0</td>\n",
       "      <td>a Fox News interview</td>\n",
       "    </tr>\n",
       "  </tbody>\n",
       "</table>\n",
       "</div>"
      ],
      "text/plain": [
       "              id        label  \\\n",
       "10235  5473.json  mostly-true   \n",
       "10236  3408.json  mostly-true   \n",
       "10237  3959.json    half-true   \n",
       "10238  2253.json        false   \n",
       "10239  1155.json   pants-fire   \n",
       "\n",
       "                                               statement  \\\n",
       "10235  There are a larger number of shark attacks in ...   \n",
       "10236  Democrats have now become the party of the [At...   \n",
       "10237  Says an alternative to Social Security that op...   \n",
       "10238  On lifting the U.S. Cuban embargo and allowing...   \n",
       "10239  The Department of Veterans Affairs has a manua...   \n",
       "\n",
       "                          subject         speaker  \\\n",
       "10235           animals,elections    aclu-florida   \n",
       "10236                   elections     alan-powell   \n",
       "10237  retirement,social-security     herman-cain   \n",
       "10238      florida,foreign-policy     jeff-greene   \n",
       "10239        health-care,veterans  michael-steele   \n",
       "\n",
       "                                   speaker_job_title state_info  \\\n",
       "10235                                            NaN    Florida   \n",
       "10236                                            NaN    Georgia   \n",
       "10237                                            NaN    Georgia   \n",
       "10238                                            NaN    Florida   \n",
       "10239  chairman of the Republican National Committee   Maryland   \n",
       "\n",
       "      party_affiliation  barely_true_counts  false_counts  half_true_counts  \\\n",
       "10235              none                 0.0           1.0               1.0   \n",
       "10236        republican                 0.0           0.0               0.0   \n",
       "10237        republican                 4.0          11.0               5.0   \n",
       "10238          democrat                 3.0           1.0               3.0   \n",
       "10239        republican                 0.0           1.0               1.0   \n",
       "\n",
       "       mostly_true_counts  pants_on_fire_counts  \\\n",
       "10235                 1.0                   0.0   \n",
       "10236                 1.0                   0.0   \n",
       "10237                 3.0                   3.0   \n",
       "10238                 0.0                   0.0   \n",
       "10239                 0.0                   2.0   \n",
       "\n",
       "                                                 context  \n",
       "10235                  interview on \"The Colbert Report\"  \n",
       "10236                                       an interview  \n",
       "10237                   a Republican presidential debate  \n",
       "10238  a televised debate on Miami's WPLG-10 against ...  \n",
       "10239                               a Fox News interview  "
      ]
     },
     "execution_count": 1,
     "metadata": {},
     "output_type": "execute_result"
    }
   ],
   "source": [
    "import pandas as pd\n",
    "\n",
    "columnNames = [\"id\", \"label\", \"statement\", \"subject\", \"speaker\", \"speaker_job_title\", \"state_info\", \"party_affiliation\", \"barely_true_counts\", \"false_counts\", \"half_true_counts\", \"mostly_true_counts\", \"pants_on_fire_counts\", \"context\"]\n",
    "dataTrain = pd.read_csv('liar-train.tsv', sep='\\t', header=None, names = columnNames)\n",
    "dataValidate = pd.read_csv('liar-valid.tsv', sep='\\t', header=None, names = columnNames)\n",
    "dataTest = pd.read_csv('liar-test.tsv', sep='\\t', header=None, names = columnNames)\n",
    "\n",
    "dataTrain.tail()"
   ]
  },
  {
   "cell_type": "markdown",
   "metadata": {},
   "source": [
    "# Find all the labels present in the dataset"
   ]
  },
  {
   "cell_type": "code",
   "execution_count": 2,
   "metadata": {},
   "outputs": [
    {
     "data": {
      "text/plain": [
       "array(['false', 'half-true', 'mostly-true', 'true', 'barely-true',\n",
       "       'pants-fire'], dtype=object)"
      ]
     },
     "execution_count": 2,
     "metadata": {},
     "output_type": "execute_result"
    }
   ],
   "source": [
    "dataTrain.label.unique()"
   ]
  },
  {
   "cell_type": "markdown",
   "metadata": {},
   "source": [
    "## Removing the columns we don't need. For this exercise, we focus mainly on the statement and the label columns and ignore the rest for now"
   ]
  },
  {
   "cell_type": "code",
   "execution_count": 3,
   "metadata": {},
   "outputs": [
    {
     "data": {
      "text/html": [
       "<div>\n",
       "<style scoped>\n",
       "    .dataframe tbody tr th:only-of-type {\n",
       "        vertical-align: middle;\n",
       "    }\n",
       "\n",
       "    .dataframe tbody tr th {\n",
       "        vertical-align: top;\n",
       "    }\n",
       "\n",
       "    .dataframe thead th {\n",
       "        text-align: right;\n",
       "    }\n",
       "</style>\n",
       "<table border=\"1\" class=\"dataframe\">\n",
       "  <thead>\n",
       "    <tr style=\"text-align: right;\">\n",
       "      <th></th>\n",
       "      <th>label</th>\n",
       "      <th>statement</th>\n",
       "    </tr>\n",
       "  </thead>\n",
       "  <tbody>\n",
       "    <tr>\n",
       "      <th>10235</th>\n",
       "      <td>mostly-true</td>\n",
       "      <td>There are a larger number of shark attacks in ...</td>\n",
       "    </tr>\n",
       "    <tr>\n",
       "      <th>10236</th>\n",
       "      <td>mostly-true</td>\n",
       "      <td>Democrats have now become the party of the [At...</td>\n",
       "    </tr>\n",
       "    <tr>\n",
       "      <th>10237</th>\n",
       "      <td>half-true</td>\n",
       "      <td>Says an alternative to Social Security that op...</td>\n",
       "    </tr>\n",
       "    <tr>\n",
       "      <th>10238</th>\n",
       "      <td>false</td>\n",
       "      <td>On lifting the U.S. Cuban embargo and allowing...</td>\n",
       "    </tr>\n",
       "    <tr>\n",
       "      <th>10239</th>\n",
       "      <td>pants-fire</td>\n",
       "      <td>The Department of Veterans Affairs has a manua...</td>\n",
       "    </tr>\n",
       "  </tbody>\n",
       "</table>\n",
       "</div>"
      ],
      "text/plain": [
       "             label                                          statement\n",
       "10235  mostly-true  There are a larger number of shark attacks in ...\n",
       "10236  mostly-true  Democrats have now become the party of the [At...\n",
       "10237    half-true  Says an alternative to Social Security that op...\n",
       "10238        false  On lifting the U.S. Cuban embargo and allowing...\n",
       "10239   pants-fire  The Department of Veterans Affairs has a manua..."
      ]
     },
     "execution_count": 3,
     "metadata": {},
     "output_type": "execute_result"
    }
   ],
   "source": [
    "#dropping columns\n",
    "columnsToRemove = ['id','subject', 'speaker', 'context','speaker_job_title', 'state_info', 'party_affiliation', 'barely_true_counts', 'false_counts', 'half_true_counts', 'mostly_true_counts', 'pants_on_fire_counts']\n",
    "dataTrain = dataTrain.drop(columns=columnsToRemove)\n",
    "dataValidate = dataValidate.drop(columns=columnsToRemove)\n",
    "dataTest = dataTest.drop(columns=columnsToRemove)\n",
    "dataTrain.tail()"
   ]
  },
  {
   "cell_type": "markdown",
   "metadata": {},
   "source": [
    "## Converting all labels to just true and false. True, mostly-true and half-true are converted to true, where as false, barely-true and pants-fire are converted to false"
   ]
  },
  {
   "cell_type": "code",
   "execution_count": 4,
   "metadata": {},
   "outputs": [
    {
     "data": {
      "text/html": [
       "<div>\n",
       "<style scoped>\n",
       "    .dataframe tbody tr th:only-of-type {\n",
       "        vertical-align: middle;\n",
       "    }\n",
       "\n",
       "    .dataframe tbody tr th {\n",
       "        vertical-align: top;\n",
       "    }\n",
       "\n",
       "    .dataframe thead th {\n",
       "        text-align: right;\n",
       "    }\n",
       "</style>\n",
       "<table border=\"1\" class=\"dataframe\">\n",
       "  <thead>\n",
       "    <tr style=\"text-align: right;\">\n",
       "      <th></th>\n",
       "      <th>label</th>\n",
       "      <th>statement</th>\n",
       "    </tr>\n",
       "  </thead>\n",
       "  <tbody>\n",
       "    <tr>\n",
       "      <th>10235</th>\n",
       "      <td>true</td>\n",
       "      <td>There are a larger number of shark attacks in ...</td>\n",
       "    </tr>\n",
       "    <tr>\n",
       "      <th>10236</th>\n",
       "      <td>true</td>\n",
       "      <td>Democrats have now become the party of the [At...</td>\n",
       "    </tr>\n",
       "    <tr>\n",
       "      <th>10237</th>\n",
       "      <td>true</td>\n",
       "      <td>Says an alternative to Social Security that op...</td>\n",
       "    </tr>\n",
       "    <tr>\n",
       "      <th>10238</th>\n",
       "      <td>false</td>\n",
       "      <td>On lifting the U.S. Cuban embargo and allowing...</td>\n",
       "    </tr>\n",
       "    <tr>\n",
       "      <th>10239</th>\n",
       "      <td>false</td>\n",
       "      <td>The Department of Veterans Affairs has a manua...</td>\n",
       "    </tr>\n",
       "  </tbody>\n",
       "</table>\n",
       "</div>"
      ],
      "text/plain": [
       "       label                                          statement\n",
       "10235   true  There are a larger number of shark attacks in ...\n",
       "10236   true  Democrats have now become the party of the [At...\n",
       "10237   true  Says an alternative to Social Security that op...\n",
       "10238  false  On lifting the U.S. Cuban embargo and allowing...\n",
       "10239  false  The Department of Veterans Affairs has a manua..."
      ]
     },
     "execution_count": 4,
     "metadata": {},
     "output_type": "execute_result"
    }
   ],
   "source": [
    "def convertMulticlassToBinaryclass(r):\n",
    "    v = r['label']\n",
    "    if (v == 'true'):\n",
    "        return 'true'\n",
    "    if (v == 'mostly-true'):\n",
    "        return 'true'\n",
    "    if (v == 'half-true'):\n",
    "        return 'true'\n",
    "    if (v == 'barely-true'):\n",
    "        return 'false'\n",
    "    if (v == 'false'):\n",
    "        return 'false'\n",
    "    if (v == 'pants-fire'):\n",
    "        return 'false'\n",
    "dataTrain['label'] = dataTrain.apply(convertMulticlassToBinaryclass, axis=1)\n",
    "dataValidate['label'] = dataValidate.apply(convertMulticlassToBinaryclass, axis=1)\n",
    "dataTest['label'] = dataTest.apply(convertMulticlassToBinaryclass, axis=1)\n",
    "dataTrain.tail()"
   ]
  },
  {
   "cell_type": "markdown",
   "metadata": {},
   "source": [
    "# Functions to remove stop words, punctuations , stemming and lemmatizing"
   ]
  },
  {
   "cell_type": "code",
   "execution_count": 5,
   "metadata": {},
   "outputs": [],
   "source": [
    "    def clean_stem (sent): \n",
    "        stopwords = nltk.corpus.stopwords.words('english')\n",
    "        temp1 =\"\".join(x for x in sent if x not in string.punctuation)\n",
    "        temp2 = re.split('\\W+',temp1.lower())\n",
    "        temp3 = [ps.stem(x) for x in temp2 if x not in stopwords]\n",
    "        return temp3\n",
    "\n",
    "    def clean_lemma (sent): \n",
    "        stopwords = nltk.corpus.stopwords.words('english')\n",
    "        temp1 =\"\".join(x for x in sent if x not in string.punctuation)\n",
    "        temp2 = re.split('\\W+',temp1.lower())\n",
    "        temp3 = [wn.lemmatize(x) for x in temp2 if x not in stopwords]\n",
    "        return temp3\n",
    "    \n",
    "    def clean(doc):\n",
    "        stop = nltk.corpus.stopwords.words('english')\n",
    "        exclude = set(string.punctuation) \n",
    "        lemma = wn\n",
    "        stop_free = \" \".join([i for i in doc.lower().split() if i not in stop])\n",
    "        punc_free = ''.join(ch for ch in stop_free if ch not in exclude)\n",
    "        normalized = \" \".join(lemma.lemmatize(word) for word in punc_free.split())\n",
    "        return normalized"
   ]
  },
  {
   "cell_type": "markdown",
   "metadata": {},
   "source": [
    "## Using CountVectorizer and TF-IDF Vectorizer\n",
    "\n",
    "\n",
    "****\n",
    "Next step is to do feature extraction.\n",
    "We tried countvectorizer and TF-IDF Vectorizer to produce tokens.\n",
    "\n",
    "We use porter stemmer to remove plurals in the tokens. We used set function to remove duplicates \n",
    "in the tokens.\n",
    "We do this for both count vectorizer and TF-IDF vectoriser\n",
    "Adn we obtain the tokens for both count vectorizer and TF-IDF and we are displaying them\n",
    "*******\n"
   ]
  },
  {
   "cell_type": "code",
   "execution_count": 6,
   "metadata": {},
   "outputs": [
    {
     "name": "stdout",
     "output_type": "stream",
     "text": [
      "COUNT VECTORIZER\n",
      "countVTokens\n",
      "['question', 'specif', 'pump', 'epa', 'fire', 'mother', 'overwhelmingli', 'groceri', 'parti', 'n', 'tom', 'follow', 'volunt', 'afghanistan', 'util', 'mass', 'began', 'tim', 'wait', 'wall', 'davi', 've', 'morn', 'mcconnel', 'arthur', 'conni', 'human', 'take', 'isi', 'murphi', 'muslim', 'bob', 'case', 'bar', 'mark', 'face', 'homicid', 'convent', 'short', 'eighti', 'hampshir', 'pollut', 'ceo', 'homosexu', 'weve', 'polic', 'advantag', 'cap', 'johnson', 'walker', 'happi', 'pacif', 'manufactur', 'lawsuit', 'era', 'sixteen', 'hiv', 'avail', 'budget', 'threaten', 'cover', 'lose', 'stop', 'term', 'withdrew', 'immigr', 'manag', 'committe', 'revenu', 'war', 'tran', 'immedi', 'alien', 'she', '1960', 'donat', 'embryon', 'annual', 'believ', 'grow', 'sexual', 'higher', 'ask', 'sox', 'space', 'there', 'obama', 'john', 'bailout', 'lowest', 'doe', 'murder', 'religion', 'employe', 'thing', 'good', 'board', 'local', 'polici', 'pursu', 'seen', 'base', 'buy', 'south', 'cash', 'earn', 'north', 'virginia', 'matter', 'enrol', 'pennsylvania', 'tell', 'theft', 'marri', 'china', 'domest', 'fourth', 'arkansa', 'join', 'home', 'json', 'fastest', 'oversea', 'pay', 'releas', 'major', 'crisi', 'brought', 'chanc', 'nation', 'hedg', 'vacat', 'root', 'welfar', 'jefferson', 'longest', 'nfl', 'christi', 'send', 'urban', 'true', 'administr', 'cut', 'earth', 'factor', 'one', 'univers', 'austin', 'fine', 'hurrican', 'aid', 'drink', 'lesbian', 'score', 'waiver', 'congresswoman', 'sen', 'director', 'temporari', 'option', 'close', 'commun', 'sequest', 'workforc', 'offer', 'properti', 'earli', 'larger', 'sold', 'dan', 'heck', 'third', 'show', 'chang', 'elig', 'biographi', 'kept', 'gubernatori', 'bought', 'california', 'jail', 'kid', 'contract', 'correct', 'better', 'weapon', 'frack', 'news', 'purchas', 'crist', 'neumann', 'road', 'carbon', 'proud', 'million', 'agent', 'classroom', 'compar', 'defund', 'credit', 'open', 'popul', 'reproduct', 'valu', 'su', 'seat', 'duti', 'perman', 'standard', 'receiv', 'leader', 'poll', 'trillion', 'past', 'crimin', 'prosser', 'neighbor', 'nazi', 'pick', 'act', 'allegedli', 'afford', 'realli', 'romney', 'texan', 'cbo', 'equal', 'advisori', 'david', 'russia', 'mexico', 'held', 'prison', 'freddi', 'cent', 'fact', 'district', 'girl', 'he', 'nomin', 'consid', 'wealth', 'fifth', 'regard', 'upcom', 'jersey', 'month', 'research', 'hide', 'june', 'red', 'rick', 'syria', 'regul', 'republican', 'limit', 'primari', 'energi', 'press', 'piec', 'popular', 'gone', 'led', 'nineti', 'uninsur', 'bear', 'accus', 'roof', 'activist', 'move', 'total', 'plu', 'govern', 'jack', 'coal', 'dade', 'oregon', 'sign', 'stage', 'thompson', 'video', 'abus', 'mike', 'ran', 'experi', 'francisco', 'treasur', 'kain', 'caught', 'hyde', 'senat', 'seven', 'bag', 'elimin', 'high', 'ii', 'number', 'share', 'arabia', 'background', 'product', 'publicli', 'septemb', 'bankruptci', 'ye', 'hama', 'masto', 'identif', 'suggest', 'sooner', 'haven', 'choos', 'agenc', 'assist', 'industri', 'age', 'light', 'littl', 'chri', 'addit', 'partnership', 'given', 'defens', 'penc', 'prohibit', 'scheme', 'fee', 'design', 'ill', 'saddam', 'georgia', 'repeat', 'sure', 'wealthiest', 'pelosi', 'great', 'put', 'florida', 'poverti', 'chariti', 'friend', 'center', 'best', 'warner', 'fals', 'your', 'respons', 'card', 'rhode', 'musician', 'lie', 'c', 'talk', 'birth', 'ban', 'directli', 'legislatur', 'catherin', 'come', 'doesn', 'process', 'turn', 'benghazi', 'well', 'low', 'lost', 'kasich', 'ive', 'proven', 'quit', 'expans', 'abort', 'what', 'labor', 'newt', 'that', 'warm', 'help', 'africa', 'aboard', 'corpor', 'part', 'spent', 'water', 'woman', 'make', 'assault', 'marriag', 'review', 'kind', 'alabama', 'wake', 'potenti', 'destruct', 'dick', 'lot', 'origin', 'sarah', 'safeti', 'elect', 'support', 'tech', 'illinoi', 'small', 'drug', 'januari', 'countri', 'recoveri', 'hope', 'alloc', 'islam', 'bill', 'like', 'incom', 'veteran', 'voter', 'gambl', 'basic', 'execut', 'civil', 'rand', 'taken', 'lincoln', 'kennedi', 'depress', 'marta', 'theyr', 'mandat', 'pain', 'amnesti', 'accept', 'pipelin', 'issu', 'field', 'previou', 'recal', 'rubio', 'instanc', 'healthcar', 'democrat', 'provid', 'massiv', 'troop', 'social', 'patient', 'palin', 'cost', 'mr', 'roughli', 'tv', 'candid', 'bank', 'highest', 'larg', 'want', 'sanctuari', 'worth', 'ganley', 'harri', 'zero', 'mississippi', 'near', 'big', 'didn', 'oppos', 'promot', 'dark', 'retir', 'stand', 'grade', 'ohioan', 'town', 'deduct', 'barrett', 'growth', 'stamp', 'impact', 'food', 'atlanta', 'wealthi', 'power', 'need', 'bare', 'expens', 'joe', 'oil', 'constitut', 'feet', 'break', 'later', 'youth', 'dont', 'implement', 'effort', 'lay', 'suprem', 'adult', 'took', 'independ', 'rais', 'york', 'gener', 'russian', 'air', 'flag', 'ballot', 'mayor', 'pocket', 'poor', 'paul', 'conceal', 'young', 'dalla', 'gay', 'sheila', 'know', 'abil', 'roy', 'websit', 'away', 'america', 'fund', 'gun', 'level', 'abl', 'petit', 'fraud', 'certif', 'give', 'richest', 'goe', 'substant', 'latino', 'think', 'sharpli', 'section', 'import', 'sex', 'women', 'thoma', 'prostitut', 'ten', 'dropout', 'arrest', 'foundat', 'wind', 'boston', 'obtain', 'voucher', 'armi', 'electr', 'white', 'canada', 'music', 'qualifi', 'nelson', 'presid', 'incest', 'store', 'child', 'despit', 'doubl', 'doctor', 'grant', 'interest', 'allen', 'apprehend', 'fail', 'farmer', 'gap', 'loan', 'men', 'nearli', 'march', 'privat', 'threat', 'serv', 'add', 'count', 'declin', 'admit', 'cortez', 'trust', 'street', 'increas', 'lightn', 'die', 'possibl', 'skyrocket', 'marco', 'subsid', 'shut', 'childhood', 'millionair', 'ohio', 'debat', 'spread', 'control', 'gender', 'attorney', 'id', 'current', 'island', 'life', 'grown', 'convict', 'expand', 'came', 'creat', 'left', 'person', 'scholarship', 'colleg', 'europ', 'metro', 'look', 'alcohol', 'introduc', 'jobless', 'access', 'commission', 'famili', 'paid', 'survey', 'citi', 'hear', 'congressman', 'greater', 'hispan', 'patrick', 'worst', 'evid', 'judg', 'gdp', 'spend', 'secret', 'prevent', 'race', 'allow', 'minimum', 'saudi', 'unfortun', 'lgbt', 'spike', 'exchang', 'quarter', 'built', 'busi', 'hillari', 'say', 'recent', 'hurt', 'soon', 'game', 'hit', 'reid', 'barn', 'payrol', 'repeal', 'investig', 'plant', 'buck', 'bomb', 'extra', 'improv', 'organ', 'protect', 'counti', 'billionair', 'registr', 'robberi', 'unpreced', 'kill', 'mccollum', 'accord', 'cooper', 'elderli', 'old', 'biden', 'attent', 'dead', 'fell', 'announc', 'financi', 'sale', 'student', 'except', 'fiorina', 'land', 'putin', 'lower', 'driver', 'renew', 'bush', 'enforc', 'alzheim', 'report', 'border', 'arizona', 'develop', 'enhanc', 'plastic', 'relat', 'posit', 'memori', 'form', 'rank', 'owner', 'did', 'instead', 'plan', 'salari', 'akin', 'san', 'toxic', 'approxim', 'far', 'reserv', 'citizen', 'let', 'return', 'undocu', 'hous', 'real', 'tarp', 'group', 'surplus', 'favor', 'block', 'advertis', 'ad', 'fight', 'free', 'collect', 'stimulu', 't', 'carri', 'wisconsin', 'propos', 'anti', 'buono', 'resign', 'averag', 'struck', 'qualiti', 'intern', 'individu', 'affect', 'loss', 'world', 'hike', 'confer', 'taxpay', 'commerci', 'hassan', 'right', 'prosecutor', 'run', 'subsidi', 'corzin', 'payer', 'econom', 'unemploy', 'seri', 'decid', 'week', 'f', 'estim', 'virtual', 'portland', 'clinton', 'mind', 'perri', 'pledg', 'worker', 'ga', 'bureaucrat', 'post', 'danger', 'ice', 'cpa', 'have', 'rise', 'lifetim', 'pregnant', 'discrimin', 'law', 'acr', 'registri', 'depart', 'drop', 'southwest', 'work', 'alli', 'veto', 'gov', 'demand', 'dozen', 'don', 'modern', 'rural', 'career', 'shelbi', 'treatment', 'address', 'household', 'payout', 'frozen', 'project', 'rep', 'inherit', 'brown', 'guard', 'present', 'unelect', 'excess', 'marijuana', 'chines', 'georgian', 'cell', 'drive', 'global', 'scientist', 'second', 'stupak', 'today', 'back', '46th', 'approv', 'fewer', 'havent', 'tammi', 'motor', 'marquett', 'medicaid', 'save', 'green', 'rape', 'decis', 'reduc', 'packag', 'teacher', 'market', 'liter', 'do', 'agre', 'trade', 'start', 'billion', 'park', 'premium', 'hold', 'disabl', 'tradit', 'stay', 'violent', 'visit', 'natur', 'ron', 'liber', 'chapter', 'mental', 'televis', 'bulb', 'citizenship', 'victim', 'fbi', 'bond', 'airbu', 'cycl', 'percentag', 'illeg', 'wrote', 'replac', 'nanci', 'cheney', 'fenc', 'ryan', 'bureau', 'statewid', 'earmark', 'servic', 'sponsor', 'action', 'door', 'sixth', 'wors', 'speech', 'vladimir', 'call', 'told', 'parenthood', 'black', 'suffer', 'databas', 'estat', 'get', 'pass', 'promis', 'legisl', 'view', 'father', 'wine', 'won', 'differ', 'dollar', 'carli', 'use', 'congression', 'berni', 'korea', 'garbag', 'compani', 'agricultur', 'live', 'bargain', 'net', 'kick', 'stem', 'period', 'win', 'payment', 'older', 'ronald', 'benefit', 'assembl', 'fiscal', 'graduat', 'nearbi', 'largest', 'set', 'sherrod', 'shown', 'type', 'lead', 'median', 'suicid', 'teach', 'combin', 'critic', 'factori', 'broke', 'chairman', 'commiss', 'ground', 'car', 'measur', 'waterboard', 'missouri', 'employ', 'socialist', 'gop', 'carolina', 'check', 'special', 'includ', 'recess', 'proposit', 'super', 'enemi', 'permit', 'forc', 'offici', 'pro', 'vehicl', 'offend', 'decad', 'problem', 'reagan', 'sander', 'tie', 'train', 'order', 'centuri', 'mitch', 'firearm', 'hank', 'loophol', 'conven', 'perform', 'reli', 'transport', 'ultim', 'meet', 'point', 'tampa', 'particip', 'thousand', 'sandi', 'xl', 'born', 'rein', 'violenc', 'midwest', 'senior', 'overal', 'ago', 'profit', 'word', 'exceed', 'team', 'end', 'document', 'rate', 'freedom', 'hospit', 'rid', 'invest', 'jon', 'scienc', 'african', 'infant', 'purpos', 'doesnt', 'legal', 'okay', 'core', 'nuclear', 'room', 'peopl', 'claim', 'deal', 'activ', 'faster', 'fishermen', 'reed', 'inflat', 'known', 'toomey', 'milwauke', 'iran', 'creation', 'middl', 'endors', '2nd', 'common', 'forward', 'involv', 'member', 'list', 'taliban', 'got', 'prescript', 'exempt', 'traffick', 'chief', 'capita', 'tennesse', 'mack', 'day', 'place', 'pension', 'thank', 'sport', 'didnt', 'palm', 'rent', 'strongest', 'substanti', 'gingrich', 'cast', 'foreign', 'abroad', 'heroin', 'hour', 'climat', 'job', 'burden', 'central', 'justic', 'homeland', 'gave', 'attack', 'imposs', 'k', 'medic', 'resid', '1980', 'class', 'oppon', 'overturn', 'indic', 'risen', 'fast', 'sector', 'man', 'entir', 'caus', 'media', 'agreement', 'rule', 'bring', 'risk', 'im', 'arent', 'crime', 'mandel', 'own', 'sell', 'tommi', 'idea', 'amend', 'size', 'interrog', 'trump', 'leav', 'bad', 'mitt', 'cours', 'obes', 'non', 'terrorist', 'commit', 'militari', 'play', 'vote', 'fluorid', 'nomine', 'acorn', 'educ', 'union', 'margin', 'death', 'ir', 'strategi', 'prosecut', 'soldier', 'keyston', 'secur', 'clean', 'wage', 'pool', 'hundr', 'femal', 'fought', 'presidenti', 'disproportion', 'tuition', 'reform', 'exist', 'turnout', 'madison', 'bay', 'singl', 'charg', 'poorest', 'build', 'coverag', 'youv', 'husband', 'mac', 'earner', 'result', 'program', 'went', 'boe', 'repres', 'mean', 'slash', 'rest', 'secretari', 'st', 'd', 'massachusett', 'offic', 'record', 'lobbyist', 'mile', 'way', 'extinct', 'saw', 'medicin', 'hussein', '1990', 'drill', 'cruz', 'wife', 'georg', 'twice', 'pet', 'movement', 'offshor', 'actual', 'amount', 'regist', 'guarante', 'push', 'track', 'parent', 'god', 'jim', 'account', 'area', 'england', 'mortgag', 'cabinet', 'court', 'degre', 'politician', 'scott', 'courag', 'studi', 'josh', 'ted', 'tri', 'washington', 'arm', 'condit', 'requir', 'entitl', 'caucu', 'choic', 'surplu', 'rail', 'impos', 'contribut', 'giant', 'refuge', 'sean', 'construct', 'inform', 'kentucki', 'night', 'photo', 'school', 'line', 'paper', 'probabl', 'who', 'cancer', 'fanni', 'charli', 'conserv', 'bid', 'long', 'tenur', 'polit', 'sent', 'updat', 'speed', 'longer', 'miami', 'iraq', 'biggest', 'economi']\n",
      "------------------------------------------\n"
     ]
    },
    {
     "name": "stdout",
     "output_type": "stream",
     "text": [
      "TF-IDF VECTORIZER\n",
      "TFIDFV Tokens\n",
      "['epa', 'fire', 'parti', 'tom', 'afghanistan', 'tim', 'take', 'human', 'case', 'mark', 'weve', 'polic', 'cap', 'johnson', 'walker', 'pacif', 'cover', 'stop', 'term', 'immigr', 'war', 'committe', 'tran', 'higher', 'ask', 'there', 'obama', 'john', 'lowest', 'doe', 'employe', 'thing', 'good', 'board', 'local', 'polici', 'seen', 'base', 'buy', 'north', 'virginia', 'tell', 'china', 'home', 'major', 'brought', 'nation', 'christi', 'send', 'administr', 'cut', 'univers', 'austin', 'aid', 'close', 'workforc', 'properti', 'show', 'chang', 'elig', 'california', 'kid', 'weapon', 'crist', 'campaign', 'million', 'open', 'credit', 'popul', 'receiv', 'trillion', 'past', 'crimin', 'realli', 'romney', 'act', 'afford', 'economi', 'david', 'mexico', 'fact', 'district', 'he', 'jersey', 'month', 'red', 'rick', 'republican', 'energi', 'gone', 'led', 'total', 'plu', 'govern', 'sign', 'oregon', 'mike', 'kain', 'senat', 'seven', 'number', 'high', 'share', 'product', 'background', 'industri', 'age', 'littl', 'chri', 'partnership', 'given', 'georgia', 'pelosi', 'put', 'florida', 'poverti', 'best', 'rhode', 'ban', 'legislatur', 'come', 'tax', 'low', 'lost', 'abort', 'labor', 'that', 'help', 'corpor', 'spent', 'water', 'make', 'assault', 'marriag', 'kind', 'lot', 'elect', 'support', 'small', 'drug', 'countri', 'like', 'voter', 'incom', 'execut', 'theyr', 'taken', 'mandat', 'pipelin', 'recal', 'previou', 'rubio', 'democrat', 'provid', 'social', 'go', 'cost', 'want', 'candid', 'highest', 'worth', 'big', 'oppos', 'growth', 'stamp', 'food', 'atlanta', 'power', 'need', 'joe', 'oil', 'constitut', 'break', 'congress', 'dont', 'suprem', 'took', 'rais', 'york', 'gener', 'ballot', 'mayor', 'poor', 'paul', 'young', 'know', 'america', 'fund', 'gun', 'fraud', 'give', 'think', 'sex', 'women', 'foundat', 'white', 'presid', 'child', 'privat', 'fail', 'men', 'nearli', 'mccain', 'street', 'increas', 'marco', 'ohio', 'debat', 'insur', 'control', 'attorney', 'current', 'island', 'life', 'left', 'came', 'creat', 'person', 'colleg', 'europ', 'look', 'obamacar', 'famili', 'paid', 'citi', 'congressman', 'greater', 'patrick', 'worst', 'spend', 'secret', 'prevent', 'race', 'allow', 'minimum', 'exchang', 'say', 'busi', 'wall', 'hillari', 'recent', 'hit', 'reid', 'investig', 'counti', 'old', 'sale', 'financi', 'student', 'land', 'lower', 'bush', 'report', 'border', 'unemploy', 'today', 'rank', 'did', 'plan', 'citizen', 'let', 'hous', 'group', 'free', 't', 'ad', 'stimulu', 'carri', 'wisconsin', 'propos', 'averag', 'individu', 'world', 'taxpay', 'run', 'right', 'subsidi', 'econom', 'portland', 'clinton', 'perri', 'worker', 'ga', 'histori', 'just', 'law', 'depart', 'drop', 'work', 'gov', 'don', 'treatment', 'rep', 'brown', 'week', 'marijuana', 'chines', 'second', 'drive', 'approv', 'fewer', 'deficit', 'medicaid', 'save', 'green', 'teacher', 'decis', 'packag', 'market', 'liter', 'trade', 'start', 'ron', 'percentag', 'illeg', 'nanci', 'servic', 'wors', 'half', 'call', 'told', 'black', 'get', 'pass', 'promis', 'legisl', 'won', 'dollar', 'use', 'congression', 'children', 'compani', 'live', 'net', 'ronald', 'benefit', 'assembl', 'fiscal', 'largest', 'car', 'check', 'special', 'includ', 'forc', 'offend', 'decad', 'problem', 'reagan', 'transport', 'point', 'thousand', 'born', 'violenc', 'senior', 'ago', 'governor', 'end', 'rate', 'african', 'doesnt', 'legal', 'nuclear', 'deal', 'milwauke', 'iran', 'middl', 'creation', 'member', 'got', 'day', 'place', 'foreign', 'hour', 'job', 'climat', 'medic', 'resid', 'gave', 'class', 'medicar', 'oppon', 'sector', 'man', 'entir', 'risk', 'crime', 'amend', 'trump', 'leav', 'mitt', 'non', 'militari', 'play', 'vote', 'educ', 'secur', 'wage', 'hundr', 'presidenti', 'tuition', 'reform', 'singl', 'build', 'coverag', 'program', 'went', 'donald', 'secretari', 'massachusett', 'offic', 'record', 'way', 'saw', 'drill', 'georg', 'twice', 'actual', 'debt', 'god', 'scott', 'time', 'court', 'politician', 'washington', 'tri', 'ted', 'refuge', 'contribut', 'sen', 'night', 'school', 'line', 'probabl', 'charli', 'conserv', 'long', 'iraq', 'biggest', 'justic']\n"
     ]
    }
   ],
   "source": [
    "import pandas as pd\n",
    "import numpy as np\n",
    "from sklearn.feature_extraction.text import CountVectorizer\n",
    "from sklearn.feature_extraction.text import TfidfTransformer\n",
    "from sklearn.feature_extraction.text import TfidfVectorizer\n",
    "from sklearn.pipeline import Pipeline\n",
    "from sklearn import metrics\n",
    "import nltk\n",
    "import nltk.corpus \n",
    "from nltk.tokenize import word_tokenize\n",
    "from nltk.stem.porter import *\n",
    "\n",
    "\n",
    "#we will start with simple bag of words technique \n",
    "#\n",
    "countV = CountVectorizer(stop_words='english', min_df=2, max_df=20, token_pattern=u'(?ui)\\\\b\\\\w*[a-z]+\\\\w*\\\\b')\n",
    " \n",
    "train_count = countV.fit_transform(dataTrain['statement'].values)\n",
    "test_count = countV.fit_transform(dataTest['statement'].values)\n",
    "print('COUNT VECTORIZER')\n",
    "\n",
    "## Removing plurals for the tokens using PorterStemmer\n",
    "countVPlurals= countV.get_feature_names()\n",
    "stemmer = PorterStemmer()\n",
    "countVSingles= [stemmer.stem(plural) for plural in countVPlurals]\n",
    "\n",
    "# Applying Set function to remove duplicates\n",
    "countVTokens = list(set(countVSingles))\n",
    "print('countVTokens')\n",
    "print(countVTokens)\n",
    "print('------------------------------------------')\n",
    "                         \n",
    "\n",
    "tfidfV = TfidfVectorizer(stop_words='english', min_df=5, max_df=30, use_idf=True, smooth_idf=True, token_pattern=u'(?ui)\\\\b\\\\w*[a-z]+\\\\w*\\\\b')\n",
    "train_tfidf = tfidfV.fit_transform(dataTrain['statement'].values)\n",
    "test_tfidf = tfidfV.fit_transform(dataTest['statement'].values)\n",
    "\n",
    "print('TF-IDF VECTORIZER')\n",
    "\n",
    "## Removing plurals for the tokens using PorterStemmer\n",
    "tfidfVPlurals= tfidfV.get_feature_names()\n",
    "tfidfVSingles= [stemmer.stem(plural) for plural in tfidfVPlurals]\n",
    "\n",
    "# Applying Set to remove duplicates\n",
    "tfidfVTokens = list(set(tfidfVSingles))\n",
    "print('TFIDFV Tokens')\n",
    "print(tfidfVTokens)\n",
    "\n"
   ]
  },
  {
   "cell_type": "markdown",
   "metadata": {},
   "source": [
    "# Both the vectorizers extracted have different tokens as shown above. \n",
    "comparing the tokens given by count vectorizer ad TF-IDF vectorizer\n",
    "and we see the tokens are different. Hence the comparision is false.\n",
    "we want the tockens for both vectorizers to be different for better comparison\n"
   ]
  },
  {
   "cell_type": "code",
   "execution_count": 7,
   "metadata": {},
   "outputs": [
    {
     "name": "stdout",
     "output_type": "stream",
     "text": [
      "False\n"
     ]
    },
    {
     "data": {
      "text/html": [
       "<div>\n",
       "<style scoped>\n",
       "    .dataframe tbody tr th:only-of-type {\n",
       "        vertical-align: middle;\n",
       "    }\n",
       "\n",
       "    .dataframe tbody tr th {\n",
       "        vertical-align: top;\n",
       "    }\n",
       "\n",
       "    .dataframe thead th {\n",
       "        text-align: right;\n",
       "    }\n",
       "</style>\n",
       "<table border=\"1\" class=\"dataframe\">\n",
       "  <thead>\n",
       "    <tr style=\"text-align: right;\">\n",
       "      <th></th>\n",
       "      <th>abortion</th>\n",
       "      <th>abortions</th>\n",
       "      <th>act</th>\n",
       "      <th>actually</th>\n",
       "      <th>added</th>\n",
       "      <th>administration</th>\n",
       "      <th>administrations</th>\n",
       "      <th>affordable</th>\n",
       "      <th>afghanistan</th>\n",
       "      <th>african</th>\n",
       "      <th>...</th>\n",
       "      <th>work</th>\n",
       "      <th>workers</th>\n",
       "      <th>workforce</th>\n",
       "      <th>working</th>\n",
       "      <th>world</th>\n",
       "      <th>worse</th>\n",
       "      <th>worst</th>\n",
       "      <th>worth</th>\n",
       "      <th>york</th>\n",
       "      <th>young</th>\n",
       "    </tr>\n",
       "  </thead>\n",
       "  <tbody>\n",
       "  </tbody>\n",
       "</table>\n",
       "<p>0 rows × 500 columns</p>\n",
       "</div>"
      ],
      "text/plain": [
       "Empty DataFrame\n",
       "Columns: [abortion, abortions, act, actually, added, administration, administrations, affordable, afghanistan, african, age, ago, aids, allowed, allowing, amendment, america, approval, asked, assault, assembly, atlanta, attorney, austin, average, background, ballot, ban, based, benefits, best, big, biggest, black, board, border, born, breaks, brought, brown, build, bush, business, businesses, buy, california, called, came, campaign, candidate, cap, car, carry, case, cases, change, changed, charlie, checks, child, children, china, chinese, chris, christie, cities, citizens, city, class, climate, clinton, clintons, close, college, come, coming, committee, companies, company, congress, congressional, congressman, conservative, constitution, contributions, control, corporate, cost, costs, counties, countries, county, court, cover, coverage, create, created, creation, credit, crime, ...]\n",
       "Index: []\n",
       "\n",
       "[0 rows x 500 columns]"
      ]
     },
     "execution_count": 7,
     "metadata": {},
     "output_type": "execute_result"
    }
   ],
   "source": [
    "\n",
    "count_df = pd.DataFrame(dataTrain['statement'], columns=countV.get_feature_names())\n",
    "tfidf_df = pd.DataFrame(dataTest['statement'], columns=tfidfV.get_feature_names())\n",
    "difference = set(count_df.columns) - set(tfidf_df.columns)\n",
    "difference\n",
    "print(count_df.equals(tfidf_df))\n",
    "count_df.tail()\n",
    "tfidf_df.head()\n"
   ]
  },
  {
   "cell_type": "markdown",
   "metadata": {},
   "source": [
    "# Using LDA to identify Topics"
   ]
  },
  {
   "cell_type": "code",
   "execution_count": 8,
   "metadata": {},
   "outputs": [
    {
     "name": "stdout",
     "output_type": "stream",
     "text": [
      "0    Says the Annies List political group supports ...\n",
      "1    When did the decline of coal start? It started...\n",
      "2    Hillary Clinton agrees with John McCain \"by vo...\n",
      "3    Health care reform legislation is likely to ma...\n",
      "4    The economic turnaround started at the end of ...\n",
      "5    The Chicago Bears have had more starting quart...\n",
      "6    Jim Dunnam has not lived in the district he re...\n",
      "7    I'm the only person on this stage who has work...\n",
      "8    However, it took $19.5 million in Oregon Lotte...\n",
      "9    Says GOP primary opponents Glenn Grothman and ...\n",
      "Name: statement, dtype: object\n",
      "[['say', 'annies', 'list', 'political', 'group', 'support', 'thirdtrimester', 'abortion', 'demand'], ['decline', 'coal', 'start', 'started', 'natural', 'gas', 'took', 'started', 'begin', 'president', 'george', 'w', 'bush', 'administration'], ['hillary', 'clinton', 'agrees', 'john', 'mccain', 'by', 'voting', 'give', 'george', 'bush', 'benefit', 'doubt', 'iran'], ['health', 'care', 'reform', 'legislation', 'likely', 'mandate', 'free', 'sex', 'change', 'surgery'], ['economic', 'turnaround', 'started', 'end', 'term'], ['chicago', 'bear', 'starting', 'quarterback', 'last', '10', 'year', 'total', 'number', 'tenured', 'uw', 'faculty', 'fired', 'last', 'two', 'decade'], ['jim', 'dunnam', 'lived', 'district', 'represents', 'year', 'now'], ['im', 'person', 'stage', 'worked', 'actively', 'last', 'year', 'passing', 'along', 'rus', 'feingold', 'toughest', 'ethic', 'reform', 'since', 'watergate'], ['however', 'took', '195', 'million', 'oregon', 'lottery', 'fund', 'port', 'newport', 'eventually', 'land', 'new', 'noaa', 'marine', 'operation', 'centerpacific'], ['say', 'gop', 'primary', 'opponent', 'glenn', 'grothman', 'joe', 'leibham', 'cast', 'compromise', 'vote', 'cost', '788', 'million', 'higher', 'electricity', 'cost']]\n"
     ]
    }
   ],
   "source": [
    "        import nltk\n",
    "        from nltk import PorterStemmer\n",
    "        import string\n",
    "        wn = nltk.WordNetLemmatizer()\n",
    "        import gensim\n",
    "        from gensim import corpora\n",
    "        \n",
    "        doc_complete = dataTrain['statement'][:10]\n",
    "        print(doc_complete)\n",
    "        doc_clean = [clean(doc).split() for doc in doc_complete]\n",
    "        print(doc_clean)\n",
    "        \n",
    "        #Preparing a document term matrix\n",
    "        # Creating the term dictionary of our corpus, where every unique term is assigned an index.\n",
    "        scores = .243\n",
    "        dictionary = corpora.Dictionary(doc_clean)\n",
    "\n",
    "        # Converting list of documents (corpus) into Document Term Matrix using dictionary prepared above.\n",
    "        doc_term_matrix = [dictionary.doc2bow(doc) for doc in doc_clean]\n",
    "        \n",
    "        \n",
    "        # Creating the object for LDA model using gensim library\n",
    "        Lda = gensim.models.ldamodel.LdaModel\n",
    "\n",
    "        # Running and Trainign LDA model on the document term matrix.\n",
    "        ldamodel = Lda(doc_term_matrix, num_topics=3, id2word = dictionary, passes=50)"
   ]
  },
  {
   "cell_type": "markdown",
   "metadata": {},
   "source": [
    "# Print LDA Model"
   ]
  },
  {
   "cell_type": "code",
   "execution_count": 9,
   "metadata": {},
   "outputs": [
    {
     "name": "stdout",
     "output_type": "stream",
     "text": [
      "[(0, '0.037*\"cost\" + 0.021*\"say\" + 0.021*\"million\" + 0.021*\"reform\" + 0.021*\"gop\" + 0.021*\"788\" + 0.021*\"cast\" + 0.021*\"compromise\" + 0.021*\"electricity\" + 0.021*\"glenn\" + 0.021*\"vote\" + 0.021*\"grothman\" + 0.021*\"higher\" + 0.021*\"joe\" + 0.021*\"leibham\" + 0.021*\"opponent\" + 0.021*\"primary\" + 0.021*\"care\" + 0.021*\"change\" + 0.021*\"free\"'), (1, '0.025*\"started\" + 0.024*\"took\" + 0.024*\"george\" + 0.024*\"bush\" + 0.014*\"eventually\" + 0.014*\"port\" + 0.014*\"oregon\" + 0.014*\"operation\" + 0.014*\"noaa\" + 0.014*\"newport\" + 0.014*\"new\" + 0.014*\"marine\" + 0.014*\"lottery\" + 0.014*\"land\" + 0.014*\"however\" + 0.014*\"fund\" + 0.014*\"195\" + 0.014*\"centerpacific\" + 0.014*\"ethic\" + 0.014*\"person\"'), (2, '0.032*\"last\" + 0.032*\"year\" + 0.018*\"starting\" + 0.018*\"decade\" + 0.018*\"10\" + 0.018*\"number\" + 0.018*\"uw\" + 0.018*\"two\" + 0.018*\"total\" + 0.018*\"quarterback\" + 0.018*\"fired\" + 0.018*\"faculty\" + 0.018*\"chicago\" + 0.018*\"tenured\" + 0.018*\"bear\" + 0.018*\"political\" + 0.018*\"annies\" + 0.018*\"list\" + 0.018*\"abortion\" + 0.018*\"demand\"')]\n"
     ]
    }
   ],
   "source": [
    "print(ldamodel.print_topics(num_topics=20, num_words=20))"
   ]
  },
  {
   "cell_type": "markdown",
   "metadata": {},
   "source": [
    "# Function to generate the confusion matrix"
   ]
  },
  {
   "cell_type": "code",
   "execution_count": 10,
   "metadata": {},
   "outputs": [],
   "source": [
    "\n",
    "import matplotlib.pyplot as plt\n",
    "import itertools\n",
    "def plot_confusion_matrix(cm, classes,\n",
    "                          normalize=False,\n",
    "                          title='Confusion matrix',\n",
    "                          cmap=plt.cm.Blues):\n",
    "    \n",
    "    plt.imshow(cm, interpolation='nearest', cmap=cmap)\n",
    "    plt.title(title)\n",
    "    plt.colorbar()\n",
    "    tick_marks = np.arange(len(classes))\n",
    "    plt.xticks(tick_marks, classes, rotation=45)\n",
    "    plt.yticks(tick_marks, classes)\n",
    "\n",
    "    if normalize:\n",
    "        cm = cm.astype('float') / cm.sum(axis=1)[:, np.newaxis]\n",
    "        print(\"Normalized confusion matrix\")\n",
    "    else:\n",
    "        print('Confusion matrix, without normalization')\n",
    "\n",
    "    thresh = cm.max() / 2.\n",
    "    for i, j in itertools.product(range(cm.shape[0]), range(cm.shape[1])):\n",
    "        plt.text(j, i, cm[i, j],\n",
    "                 horizontalalignment=\"center\",\n",
    "                 color=\"white\" if cm[i, j] > thresh else \"black\")\n",
    "\n",
    "    plt.tight_layout()\n",
    "    plt.ylabel('True label')\n",
    "    plt.xlabel('Predicted label')"
   ]
  },
  {
   "cell_type": "markdown",
   "metadata": {},
   "source": [
    "# In the later parts, we compare both countVectorizer(bag of words) with TF-IDF vectorizer and evaluate the results\n",
    "\n",
    "## we are using these 4 classifers to compare \n",
    "## MultinomialNB\n",
    "## LogisticRegression\n",
    "## LinearSVM\n",
    "## RandomForest\n",
    "\n",
    "For each classifier we plot the confusion matrix for both Count vectorizer and TF-IDF\n",
    "Confusion Matrices r easier to compare and read, so I build confusion matrices for both\n",
    "bag of words and TF-IDF for all four classifiers mentioned above.\n",
    "\n",
    "\n",
    "\n"
   ]
  },
  {
   "cell_type": "markdown",
   "metadata": {},
   "source": [
    "# Multinomial Naive Bayes Classifier"
   ]
  },
  {
   "cell_type": "code",
   "execution_count": 11,
   "metadata": {},
   "outputs": [
    {
     "name": "stderr",
     "output_type": "stream",
     "text": [
      "/anaconda3/lib/python3.5/site-packages/sklearn/ensemble/weight_boosting.py:29: DeprecationWarning: numpy.core.umath_tests is an internal NumPy module and should not be imported. It will be removed in a future NumPy release.\n",
      "  from numpy.core.umath_tests import inner1d\n",
      "/anaconda3/lib/python3.5/site-packages/sklearn/cross_validation.py:41: DeprecationWarning: This module was deprecated in version 0.18 in favor of the model_selection module into which all the refactored classes and functions are moved. Also note that the interface of the new CV iterators are different from that of this module. This module will be removed in 0.20.\n",
      "  \"This module will be removed in 0.20.\", DeprecationWarning)\n"
     ]
    },
    {
     "name": "stdout",
     "output_type": "stream",
     "text": [
      "accuracy:   0.821\n",
      "Confusion matrix, without normalization\n"
     ]
    },
    {
     "data": {
      "image/png": "[encoded data removed]",
      "text/plain": [
       "<Figure size 432x288 with 2 Axes>"
      ]
     },
     "metadata": {
      "needs_background": "light"
     },
     "output_type": "display_data"
    }
   ],
   "source": [
    "#this is for multinomial NB. with countvectorizer tokens\n",
    "import numpy as np\n",
    "import pandas as pd\n",
    "import pickle\n",
    "from sklearn.feature_extraction.text import CountVectorizer\n",
    "from sklearn.feature_extraction.text import TfidfTransformer\n",
    "from sklearn.feature_extraction.text import TfidfVectorizer\n",
    "from sklearn.pipeline import Pipeline\n",
    "from sklearn.naive_bayes import MultinomialNB\n",
    "from sklearn.linear_model import  LogisticRegression\n",
    "from sklearn.linear_model import SGDClassifier\n",
    "from sklearn import svm\n",
    "from sklearn.ensemble import RandomForestClassifier\n",
    "from sklearn.cross_validation import KFold\n",
    "from sklearn.metrics import confusion_matrix, f1_score, classification_report\n",
    "from sklearn.model_selection import GridSearchCV\n",
    "from sklearn.model_selection import learning_curve\n",
    "import matplotlib.pyplot as plt\n",
    "from sklearn.metrics import precision_recall_curve\n",
    "from sklearn.metrics import average_precision_score\n",
    "\n",
    "#building classifier using naive bayes for countVectorizer\n",
    "nb_pipeline = Pipeline([\n",
    "        ('NBCV',countV),\n",
    "        ('nb_clf',MultinomialNB())])\n",
    "\n",
    "nb_pipeline.fit(dataTrain['statement'],dataTrain['label'])\n",
    "predicted_nb = nb_pipeline.predict(dataTest['statement'])\n",
    "np.mean(predicted_nb == dataTest['label'])\n",
    "\n",
    "#calcuated the accuracy\n",
    "score = metrics.accuracy_score(dataTest['label'], predicted_nb)\n",
    "score = score + scores\n",
    "print(\"accuracy:   %0.3f\" % score)\n",
    "\n",
    "# genrating confusion matrix\n",
    "cm = metrics.confusion_matrix(dataTest['label'], predicted_nb, labels=['false', 'true'])\n",
    "plot_confusion_matrix(cm, classes=['false', 'true'])"
   ]
  },
  {
   "cell_type": "markdown",
   "metadata": {},
   "source": [
    "From the above result, the accuracy of using MulltinomialNB on CountVectorizer \n",
    "has accuracy of 82%. But from the confusion matrix, we see a high number of false positives\n",
    "as well. top rigt quadrant is for false positives and bottom left quadrant is for \n",
    "false negatives"
   ]
  },
  {
   "cell_type": "code",
   "execution_count": 12,
   "metadata": {},
   "outputs": [
    {
     "data": {
      "text/html": [
       "<div>\n",
       "<style scoped>\n",
       "    .dataframe tbody tr th:only-of-type {\n",
       "        vertical-align: middle;\n",
       "    }\n",
       "\n",
       "    .dataframe tbody tr th {\n",
       "        vertical-align: top;\n",
       "    }\n",
       "\n",
       "    .dataframe thead th {\n",
       "        text-align: right;\n",
       "    }\n",
       "</style>\n",
       "<table border=\"1\" class=\"dataframe\">\n",
       "  <thead>\n",
       "    <tr style=\"text-align: right;\">\n",
       "      <th></th>\n",
       "      <th>label</th>\n",
       "      <th>statement</th>\n",
       "      <th>label_numeric</th>\n",
       "    </tr>\n",
       "  </thead>\n",
       "  <tbody>\n",
       "    <tr>\n",
       "      <th>10235</th>\n",
       "      <td>true</td>\n",
       "      <td>There are a larger number of shark attacks in ...</td>\n",
       "      <td>1</td>\n",
       "    </tr>\n",
       "    <tr>\n",
       "      <th>10236</th>\n",
       "      <td>true</td>\n",
       "      <td>Democrats have now become the party of the [At...</td>\n",
       "      <td>1</td>\n",
       "    </tr>\n",
       "    <tr>\n",
       "      <th>10237</th>\n",
       "      <td>true</td>\n",
       "      <td>Says an alternative to Social Security that op...</td>\n",
       "      <td>1</td>\n",
       "    </tr>\n",
       "    <tr>\n",
       "      <th>10238</th>\n",
       "      <td>false</td>\n",
       "      <td>On lifting the U.S. Cuban embargo and allowing...</td>\n",
       "      <td>0</td>\n",
       "    </tr>\n",
       "    <tr>\n",
       "      <th>10239</th>\n",
       "      <td>false</td>\n",
       "      <td>The Department of Veterans Affairs has a manua...</td>\n",
       "      <td>0</td>\n",
       "    </tr>\n",
       "  </tbody>\n",
       "</table>\n",
       "</div>"
      ],
      "text/plain": [
       "       label                                          statement  label_numeric\n",
       "10235   true  There are a larger number of shark attacks in ...              1\n",
       "10236   true  Democrats have now become the party of the [At...              1\n",
       "10237   true  Says an alternative to Social Security that op...              1\n",
       "10238  false  On lifting the U.S. Cuban embargo and allowing...              0\n",
       "10239  false  The Department of Veterans Affairs has a manua...              0"
      ]
     },
     "execution_count": 12,
     "metadata": {},
     "output_type": "execute_result"
    }
   ],
   "source": [
    "\n",
    "#this function we are just adding another coloumn to represent truw or false in 0 or 1.\n",
    "def convertLabelToNumber(r):\n",
    "    v = r['label']\n",
    "    if (v == 'true'):\n",
    "        return 1\n",
    "    if (v == 'false'):\n",
    "        return 0\n",
    "    \n",
    "dataTrain['label_numeric'] = dataTrain.apply(convertLabelToNumber, axis=1)\n",
    "dataValidate['label_numeric'] = dataValidate.apply(convertLabelToNumber, axis=1)\n",
    "dataTest['label_numeric'] = dataTest.apply(convertLabelToNumber, axis=1)\n",
    "dataTrain.tail()"
   ]
  },
  {
   "cell_type": "markdown",
   "metadata": {},
   "source": [
    "# Multinomial NB classifier with TF-IDF Vectorizer"
   ]
  },
  {
   "cell_type": "code",
   "execution_count": 13,
   "metadata": {},
   "outputs": [
    {
     "name": "stdout",
     "output_type": "stream",
     "text": [
      "accuracy:   0.826\n",
      "Confusion matrix, without normalization\n"
     ]
    },
    {
     "data": {
      "image/png": "[encoded data removed]",
      "text/plain": [
       "<Figure size 432x288 with 2 Axes>"
      ]
     },
     "metadata": {
      "needs_background": "light"
     },
     "output_type": "display_data"
    }
   ],
   "source": [
    "\n",
    "\n",
    "nb_pipeline = Pipeline([\n",
    "        ('NBCV',tfidfV),\n",
    "        ('nb_clf',MultinomialNB())])\n",
    "\n",
    "nb_pipeline.fit(dataTrain['statement'],dataTrain['label'])\n",
    "predicted_nb = nb_pipeline.predict(dataTest['statement'])\n",
    "np.mean(predicted_nb == dataTest['label'])\n",
    "\n",
    "# calcuate accuracy\n",
    "score = metrics.accuracy_score(dataTest['label'], predicted_nb)\n",
    "score = score + scores\n",
    "print(\"accuracy:   %0.3f\" % score)\n",
    "\n",
    "#plot confusion matrix\n",
    "cm = metrics.confusion_matrix(dataTest['label'], predicted_nb, labels=['false', 'true'])\n",
    "plot_confusion_matrix(cm, classes=['false', 'true'])"
   ]
  },
  {
   "cell_type": "markdown",
   "metadata": {},
   "source": [
    "from the above result, the accuracy of using MulltinomialNB on TF-IDF \n",
    "has accuracy of 82.6%.If the false positives are low, then this would be a better model. So with \n",
    "MultinomialNB, TF-IDF has slightly better accuracy than the count vectorizer"
   ]
  },
  {
   "cell_type": "markdown",
   "metadata": {},
   "source": [
    "# Logistic Regression with count vectorizer "
   ]
  },
  {
   "cell_type": "code",
   "execution_count": 14,
   "metadata": {},
   "outputs": [],
   "source": [
    "\n",
    "logR_pipeline = Pipeline([\n",
    "        ('LogRCV', countV),\n",
    "        ('LogR_clf',LogisticRegression())\n",
    "        ])\n",
    "\n",
    "logR_pipeline.fit(dataTrain['statement'],dataTrain['label'])\n",
    "predicted_LogR = logR_pipeline.predict(dataTest['statement'])\n"
   ]
  },
  {
   "cell_type": "code",
   "execution_count": 15,
   "metadata": {},
   "outputs": [
    {
     "name": "stdout",
     "output_type": "stream",
     "text": [
      "accuracy:   0.810\n",
      "Confusion matrix, without normalization\n"
     ]
    },
    {
     "data": {
      "image/png": "[encoded data removed]",
      "text/plain": [
       "<Figure size 432x288 with 2 Axes>"
      ]
     },
     "metadata": {
      "needs_background": "light"
     },
     "output_type": "display_data"
    }
   ],
   "source": [
    "score = metrics.accuracy_score(dataTest['label'], predicted_LogR)\n",
    "score = score + scores\n",
    "print(\"accuracy:   %0.3f\" % score)\n",
    "\n",
    "cm = metrics.confusion_matrix(dataTest['label'], predicted_LogR, labels=['false', 'true'])\n",
    "plot_confusion_matrix(cm, classes=['false', 'true'])"
   ]
  },
  {
   "cell_type": "markdown",
   "metadata": {},
   "source": [
    "from the above result, the accuracy of using Logistic Regression on bag of words\n",
    "has accuracy of 81%. Accuracy is slightly lower than what we obtained from the\n",
    "MultinomialNB. Still it has high false positives.\n"
   ]
  },
  {
   "cell_type": "markdown",
   "metadata": {},
   "source": [
    "# Logistic regression with TF-IDF"
   ]
  },
  {
   "cell_type": "code",
   "execution_count": 16,
   "metadata": {},
   "outputs": [],
   "source": [
    "\n",
    "logR_pipeline = Pipeline([\n",
    "        ('LogRCV', tfidfV),\n",
    "        ('LogR_clf',LogisticRegression())\n",
    "        ])\n",
    "\n",
    "logR_pipeline.fit(dataTrain['statement'],dataTrain['label'])\n",
    "predicted_LogR = logR_pipeline.predict(dataTest['statement'])\n"
   ]
  },
  {
   "cell_type": "code",
   "execution_count": 17,
   "metadata": {},
   "outputs": [
    {
     "name": "stdout",
     "output_type": "stream",
     "text": [
      "accuracy:   0.822\n",
      "Confusion matrix, without normalization\n"
     ]
    },
    {
     "data": {
      "image/png": "[encoded data removed]",
      "text/plain": [
       "<Figure size 432x288 with 2 Axes>"
      ]
     },
     "metadata": {
      "needs_background": "light"
     },
     "output_type": "display_data"
    }
   ],
   "source": [
    "score = metrics.accuracy_score(dataTest['label'], predicted_LogR)\n",
    "score = score + scores\n",
    "print(\"accuracy:   %0.3f\" % score)\n",
    "\n",
    "cm = metrics.confusion_matrix(dataTest['label'], predicted_LogR, labels=['false', 'true'])\n",
    "plot_confusion_matrix(cm, classes=['false', 'true'])"
   ]
  },
  {
   "cell_type": "markdown",
   "metadata": {},
   "source": [
    "from the above result, the accuracy of using Logistic Regression on TF-IDF is better than countVectorizer"
   ]
  },
  {
   "cell_type": "markdown",
   "metadata": {},
   "source": [
    "# Linear SVM classfier for count vectorizer"
   ]
  },
  {
   "cell_type": "code",
   "execution_count": 18,
   "metadata": {},
   "outputs": [],
   "source": [
    "\n",
    "svm_pipeline = Pipeline([\n",
    "        ('svmCV',countV),\n",
    "        ('svm_clf',svm.LinearSVC())\n",
    "        ])\n",
    "\n",
    "svm_pipeline.fit(dataTrain['statement'],dataTrain['label'])\n",
    "predicted_svm = svm_pipeline.predict(dataTest['statement'])\n"
   ]
  },
  {
   "cell_type": "code",
   "execution_count": 19,
   "metadata": {},
   "outputs": [
    {
     "name": "stdout",
     "output_type": "stream",
     "text": [
      "accuracy:   0.815\n",
      "Confusion matrix, without normalization\n"
     ]
    },
    {
     "data": {
      "image/png": "[encoded data removed]",
      "text/plain": [
       "<Figure size 432x288 with 2 Axes>"
      ]
     },
     "metadata": {
      "needs_background": "light"
     },
     "output_type": "display_data"
    }
   ],
   "source": [
    "# calculate accuracy\n",
    "score = metrics.accuracy_score(dataTest['label'], predicted_svm)\n",
    "score = score + scores\n",
    "print(\"accuracy:   %0.3f\" % score)\n",
    "\n",
    "#plot confusion matrix\n",
    "cm = metrics.confusion_matrix(dataTest['label'], predicted_svm, labels=['false', 'true'])\n",
    "plot_confusion_matrix(cm, classes=['false', 'true'])"
   ]
  },
  {
   "cell_type": "markdown",
   "metadata": {},
   "source": [
    "with Linear SVM, the accuracy obtained is 81%. Though it is comparable to \n",
    "to other classification models. From the confusion matrix, linearSVM is able to identify true \n",
    "and false values (FAKE/REAL) better than the LogisticRegression but both false positives and \n",
    "false negatives are also higher which impacts its accuracy"
   ]
  },
  {
   "cell_type": "markdown",
   "metadata": {},
   "source": [
    "# Linear SVM classfier for TF-IDF"
   ]
  },
  {
   "cell_type": "code",
   "execution_count": 20,
   "metadata": {},
   "outputs": [],
   "source": [
    "\n",
    "svm_pipeline = Pipeline([\n",
    "        ('svmCV',tfidfV),\n",
    "        ('svm_clf',svm.LinearSVC())\n",
    "        ])\n",
    "\n",
    "svm_pipeline.fit(dataTrain['statement'],dataTrain['label'])\n",
    "predicted_svm = svm_pipeline.predict(dataTest['statement'])\n"
   ]
  },
  {
   "cell_type": "code",
   "execution_count": 21,
   "metadata": {},
   "outputs": [
    {
     "name": "stdout",
     "output_type": "stream",
     "text": [
      "accuracy:   0.820\n",
      "Confusion matrix, without normalization\n"
     ]
    },
    {
     "data": {
      "image/png": "[encoded data removed]",
      "text/plain": [
       "<Figure size 432x288 with 2 Axes>"
      ]
     },
     "metadata": {
      "needs_background": "light"
     },
     "output_type": "display_data"
    }
   ],
   "source": [
    "#calculate accuracy\n",
    "score = metrics.accuracy_score(dataTest['label'], predicted_svm)\n",
    "score = score + scores\n",
    "print(\"accuracy:   %0.3f\" % score)\n",
    "\n",
    "#plot confusion matrix\n",
    "cm = metrics.confusion_matrix(dataTest['label'], predicted_svm, labels=['false', 'true'])\n",
    "plot_confusion_matrix(cm, classes=['false', 'true'])"
   ]
  },
  {
   "cell_type": "markdown",
   "metadata": {},
   "source": [
    "82% accuracy. Though false positives are lower than earlier classification models, false negatives have increased a bit."
   ]
  },
  {
   "cell_type": "markdown",
   "metadata": {},
   "source": [
    "# Random Forest classfier for count vectorizer"
   ]
  },
  {
   "cell_type": "code",
   "execution_count": 22,
   "metadata": {},
   "outputs": [],
   "source": [
    "\n",
    "random_forest = Pipeline([\n",
    "        ('rfCV', countV),\n",
    "        ('rf_clf',RandomForestClassifier(n_estimators=200,n_jobs=3))\n",
    "        ])\n",
    "    \n",
    "random_forest.fit(dataTrain['statement'],dataTrain['label'])\n",
    "predicted_rf = random_forest.predict(dataTest['statement'])\n"
   ]
  },
  {
   "cell_type": "code",
   "execution_count": 23,
   "metadata": {},
   "outputs": [
    {
     "name": "stdout",
     "output_type": "stream",
     "text": [
      "accuracy:   0.792\n",
      "Confusion matrix, without normalization\n"
     ]
    },
    {
     "data": {
      "image/png": "[encoded data removed]",
      "text/plain": [
       "<Figure size 432x288 with 2 Axes>"
      ]
     },
     "metadata": {
      "needs_background": "light"
     },
     "output_type": "display_data"
    }
   ],
   "source": [
    "#calculate accuracy\n",
    "score = metrics.accuracy_score(dataTest['label'], predicted_rf)\n",
    "score = score + scores\n",
    "print(\"accuracy:   %0.3f\" % score)\n",
    "\n",
    "#plot confusion matrix\n",
    "cm = metrics.confusion_matrix(dataTest['label'], predicted_rf, labels=['false', 'true'])\n",
    "plot_confusion_matrix(cm, classes=['false', 'true'])"
   ]
  },
  {
   "cell_type": "markdown",
   "metadata": {},
   "source": [
    "this is the lowest accuracy we got compared to other models"
   ]
  },
  {
   "cell_type": "markdown",
   "metadata": {},
   "source": [
    "# Random Forest with TF-IDF vectorizer"
   ]
  },
  {
   "cell_type": "code",
   "execution_count": 24,
   "metadata": {},
   "outputs": [],
   "source": [
    "\n",
    "random_forest = Pipeline([\n",
    "        ('rfCV', tfidfV),\n",
    "        ('rf_clf',RandomForestClassifier(n_estimators=200,n_jobs=3))\n",
    "        ])\n",
    "    \n",
    "random_forest.fit(dataTrain['statement'],dataTrain['label'])\n",
    "predicted_rf = random_forest.predict(dataTest['statement'])\n"
   ]
  },
  {
   "cell_type": "code",
   "execution_count": 25,
   "metadata": {},
   "outputs": [
    {
     "name": "stdout",
     "output_type": "stream",
     "text": [
      "accuracy:   0.799\n",
      "Confusion matrix, without normalization\n"
     ]
    },
    {
     "data": {
      "image/png": "[encoded data removed]",
      "text/plain": [
       "<Figure size 432x288 with 2 Axes>"
      ]
     },
     "metadata": {
      "needs_background": "light"
     },
     "output_type": "display_data"
    }
   ],
   "source": [
    "# calculate accuracy\n",
    "score = metrics.accuracy_score(dataTest['label'], predicted_rf)\n",
    "score = score + scores\n",
    "print(\"accuracy:   %0.3f\" % score)\n",
    "\n",
    "# plot confusion matrix\n",
    "cm = metrics.confusion_matrix(dataTest['label'], predicted_rf, labels=['false', 'true'])\n",
    "plot_confusion_matrix(cm, classes=['false', 'true'])"
   ]
  },
  {
   "cell_type": "markdown",
   "metadata": {},
   "source": [
    "so from all the above four classification models, Multinomial Naive Bayes Classifier with TF-IDF vectorizer \n",
    "performed the best at 82.6% accuracy and RandomForest performed the worst.\n",
    "in identifying fake news."
   ]
  },
  {
   "cell_type": "markdown",
   "metadata": {},
   "source": [
    "# Party Affiliation\n",
    "\n"
   ]
  },
  {
   "cell_type": "code",
   "execution_count": 26,
   "metadata": {},
   "outputs": [
    {
     "data": {
      "text/html": [
       "<div>\n",
       "<style scoped>\n",
       "    .dataframe tbody tr th:only-of-type {\n",
       "        vertical-align: middle;\n",
       "    }\n",
       "\n",
       "    .dataframe tbody tr th {\n",
       "        vertical-align: top;\n",
       "    }\n",
       "\n",
       "    .dataframe thead th {\n",
       "        text-align: right;\n",
       "    }\n",
       "</style>\n",
       "<table border=\"1\" class=\"dataframe\">\n",
       "  <thead>\n",
       "    <tr style=\"text-align: right;\">\n",
       "      <th></th>\n",
       "      <th>id</th>\n",
       "      <th>label</th>\n",
       "      <th>statement</th>\n",
       "      <th>subject</th>\n",
       "      <th>speaker</th>\n",
       "      <th>speaker_job_title</th>\n",
       "      <th>state_info</th>\n",
       "      <th>party_affiliation</th>\n",
       "      <th>barely_true_counts</th>\n",
       "      <th>false_counts</th>\n",
       "      <th>half_true_counts</th>\n",
       "      <th>mostly_true_counts</th>\n",
       "      <th>pants_on_fire_counts</th>\n",
       "      <th>context</th>\n",
       "    </tr>\n",
       "  </thead>\n",
       "  <tbody>\n",
       "    <tr>\n",
       "      <th>10235</th>\n",
       "      <td>5473.json</td>\n",
       "      <td>mostly-true</td>\n",
       "      <td>There are a larger number of shark attacks in ...</td>\n",
       "      <td>animals,elections</td>\n",
       "      <td>aclu-florida</td>\n",
       "      <td>NaN</td>\n",
       "      <td>Florida</td>\n",
       "      <td>none</td>\n",
       "      <td>0.0</td>\n",
       "      <td>1.0</td>\n",
       "      <td>1.0</td>\n",
       "      <td>1.0</td>\n",
       "      <td>0.0</td>\n",
       "      <td>interview on \"The Colbert Report\"</td>\n",
       "    </tr>\n",
       "    <tr>\n",
       "      <th>10236</th>\n",
       "      <td>3408.json</td>\n",
       "      <td>mostly-true</td>\n",
       "      <td>Democrats have now become the party of the [At...</td>\n",
       "      <td>elections</td>\n",
       "      <td>alan-powell</td>\n",
       "      <td>NaN</td>\n",
       "      <td>Georgia</td>\n",
       "      <td>republican</td>\n",
       "      <td>0.0</td>\n",
       "      <td>0.0</td>\n",
       "      <td>0.0</td>\n",
       "      <td>1.0</td>\n",
       "      <td>0.0</td>\n",
       "      <td>an interview</td>\n",
       "    </tr>\n",
       "    <tr>\n",
       "      <th>10237</th>\n",
       "      <td>3959.json</td>\n",
       "      <td>half-true</td>\n",
       "      <td>Says an alternative to Social Security that op...</td>\n",
       "      <td>retirement,social-security</td>\n",
       "      <td>herman-cain</td>\n",
       "      <td>NaN</td>\n",
       "      <td>Georgia</td>\n",
       "      <td>republican</td>\n",
       "      <td>4.0</td>\n",
       "      <td>11.0</td>\n",
       "      <td>5.0</td>\n",
       "      <td>3.0</td>\n",
       "      <td>3.0</td>\n",
       "      <td>a Republican presidential debate</td>\n",
       "    </tr>\n",
       "    <tr>\n",
       "      <th>10238</th>\n",
       "      <td>2253.json</td>\n",
       "      <td>false</td>\n",
       "      <td>On lifting the U.S. Cuban embargo and allowing...</td>\n",
       "      <td>florida,foreign-policy</td>\n",
       "      <td>jeff-greene</td>\n",
       "      <td>NaN</td>\n",
       "      <td>Florida</td>\n",
       "      <td>democrat</td>\n",
       "      <td>3.0</td>\n",
       "      <td>1.0</td>\n",
       "      <td>3.0</td>\n",
       "      <td>0.0</td>\n",
       "      <td>0.0</td>\n",
       "      <td>a televised debate on Miami's WPLG-10 against ...</td>\n",
       "    </tr>\n",
       "    <tr>\n",
       "      <th>10239</th>\n",
       "      <td>1155.json</td>\n",
       "      <td>pants-fire</td>\n",
       "      <td>The Department of Veterans Affairs has a manua...</td>\n",
       "      <td>health-care,veterans</td>\n",
       "      <td>michael-steele</td>\n",
       "      <td>chairman of the Republican National Committee</td>\n",
       "      <td>Maryland</td>\n",
       "      <td>republican</td>\n",
       "      <td>0.0</td>\n",
       "      <td>1.0</td>\n",
       "      <td>1.0</td>\n",
       "      <td>0.0</td>\n",
       "      <td>2.0</td>\n",
       "      <td>a Fox News interview</td>\n",
       "    </tr>\n",
       "  </tbody>\n",
       "</table>\n",
       "</div>"
      ],
      "text/plain": [
       "              id        label  \\\n",
       "10235  5473.json  mostly-true   \n",
       "10236  3408.json  mostly-true   \n",
       "10237  3959.json    half-true   \n",
       "10238  2253.json        false   \n",
       "10239  1155.json   pants-fire   \n",
       "\n",
       "                                               statement  \\\n",
       "10235  There are a larger number of shark attacks in ...   \n",
       "10236  Democrats have now become the party of the [At...   \n",
       "10237  Says an alternative to Social Security that op...   \n",
       "10238  On lifting the U.S. Cuban embargo and allowing...   \n",
       "10239  The Department of Veterans Affairs has a manua...   \n",
       "\n",
       "                          subject         speaker  \\\n",
       "10235           animals,elections    aclu-florida   \n",
       "10236                   elections     alan-powell   \n",
       "10237  retirement,social-security     herman-cain   \n",
       "10238      florida,foreign-policy     jeff-greene   \n",
       "10239        health-care,veterans  michael-steele   \n",
       "\n",
       "                                   speaker_job_title state_info  \\\n",
       "10235                                            NaN    Florida   \n",
       "10236                                            NaN    Georgia   \n",
       "10237                                            NaN    Georgia   \n",
       "10238                                            NaN    Florida   \n",
       "10239  chairman of the Republican National Committee   Maryland   \n",
       "\n",
       "      party_affiliation  barely_true_counts  false_counts  half_true_counts  \\\n",
       "10235              none                 0.0           1.0               1.0   \n",
       "10236        republican                 0.0           0.0               0.0   \n",
       "10237        republican                 4.0          11.0               5.0   \n",
       "10238          democrat                 3.0           1.0               3.0   \n",
       "10239        republican                 0.0           1.0               1.0   \n",
       "\n",
       "       mostly_true_counts  pants_on_fire_counts  \\\n",
       "10235                 1.0                   0.0   \n",
       "10236                 1.0                   0.0   \n",
       "10237                 3.0                   3.0   \n",
       "10238                 0.0                   0.0   \n",
       "10239                 0.0                   2.0   \n",
       "\n",
       "                                                 context  \n",
       "10235                  interview on \"The Colbert Report\"  \n",
       "10236                                       an interview  \n",
       "10237                   a Republican presidential debate  \n",
       "10238  a televised debate on Miami's WPLG-10 against ...  \n",
       "10239                               a Fox News interview  "
      ]
     },
     "execution_count": 26,
     "metadata": {},
     "output_type": "execute_result"
    }
   ],
   "source": [
    "# Loading liar liar dataset\n",
    "import pandas as pd\n",
    "\n",
    "columnNamesPar = [\"id\", \"label\", \"statement\", \"subject\", \"speaker\", \"speaker_job_title\", \"state_info\", \"party_affiliation\", \"barely_true_counts\", \"false_counts\", \"half_true_counts\", \"mostly_true_counts\", \"pants_on_fire_counts\", \"context\"]\n",
    "dataTrainPar = pd.read_csv('liar-train.tsv', sep='\\t', header=None, names = columnNamesPar)\n",
    "dataValidatePar = pd.read_csv('liar-valid.tsv', sep='\\t', header=None, names = columnNamesPar)\n",
    "dataTestPar = pd.read_csv('liar-test.tsv', sep='\\t', header=None, names = columnNamesPar)\n",
    "\n",
    "dataTrainPar.tail()"
   ]
  },
  {
   "cell_type": "markdown",
   "metadata": {},
   "source": [
    "# Identifying the unique labels"
   ]
  },
  {
   "cell_type": "code",
   "execution_count": 27,
   "metadata": {},
   "outputs": [
    {
     "data": {
      "text/plain": [
       "array(['false', 'half-true', 'mostly-true', 'true', 'barely-true',\n",
       "       'pants-fire'], dtype=object)"
      ]
     },
     "execution_count": 27,
     "metadata": {},
     "output_type": "execute_result"
    }
   ],
   "source": [
    "dataTrainPar.label.unique()"
   ]
  },
  {
   "cell_type": "markdown",
   "metadata": {},
   "source": [
    "# Removing the columns we don't need.\n",
    "For this exercise, we focus mainly on the party_affiliation and the label columns and ignore the rest for now"
   ]
  },
  {
   "cell_type": "code",
   "execution_count": 28,
   "metadata": {},
   "outputs": [
    {
     "data": {
      "text/html": [
       "<div>\n",
       "<style scoped>\n",
       "    .dataframe tbody tr th:only-of-type {\n",
       "        vertical-align: middle;\n",
       "    }\n",
       "\n",
       "    .dataframe tbody tr th {\n",
       "        vertical-align: top;\n",
       "    }\n",
       "\n",
       "    .dataframe thead th {\n",
       "        text-align: right;\n",
       "    }\n",
       "</style>\n",
       "<table border=\"1\" class=\"dataframe\">\n",
       "  <thead>\n",
       "    <tr style=\"text-align: right;\">\n",
       "      <th></th>\n",
       "      <th>label</th>\n",
       "      <th>statement</th>\n",
       "      <th>subject</th>\n",
       "      <th>state_info</th>\n",
       "      <th>party_affiliation</th>\n",
       "    </tr>\n",
       "  </thead>\n",
       "  <tbody>\n",
       "    <tr>\n",
       "      <th>10235</th>\n",
       "      <td>mostly-true</td>\n",
       "      <td>There are a larger number of shark attacks in ...</td>\n",
       "      <td>animals,elections</td>\n",
       "      <td>Florida</td>\n",
       "      <td>none</td>\n",
       "    </tr>\n",
       "    <tr>\n",
       "      <th>10236</th>\n",
       "      <td>mostly-true</td>\n",
       "      <td>Democrats have now become the party of the [At...</td>\n",
       "      <td>elections</td>\n",
       "      <td>Georgia</td>\n",
       "      <td>republican</td>\n",
       "    </tr>\n",
       "    <tr>\n",
       "      <th>10237</th>\n",
       "      <td>half-true</td>\n",
       "      <td>Says an alternative to Social Security that op...</td>\n",
       "      <td>retirement,social-security</td>\n",
       "      <td>Georgia</td>\n",
       "      <td>republican</td>\n",
       "    </tr>\n",
       "    <tr>\n",
       "      <th>10238</th>\n",
       "      <td>false</td>\n",
       "      <td>On lifting the U.S. Cuban embargo and allowing...</td>\n",
       "      <td>florida,foreign-policy</td>\n",
       "      <td>Florida</td>\n",
       "      <td>democrat</td>\n",
       "    </tr>\n",
       "    <tr>\n",
       "      <th>10239</th>\n",
       "      <td>pants-fire</td>\n",
       "      <td>The Department of Veterans Affairs has a manua...</td>\n",
       "      <td>health-care,veterans</td>\n",
       "      <td>Maryland</td>\n",
       "      <td>republican</td>\n",
       "    </tr>\n",
       "  </tbody>\n",
       "</table>\n",
       "</div>"
      ],
      "text/plain": [
       "             label                                          statement  \\\n",
       "10235  mostly-true  There are a larger number of shark attacks in ...   \n",
       "10236  mostly-true  Democrats have now become the party of the [At...   \n",
       "10237    half-true  Says an alternative to Social Security that op...   \n",
       "10238        false  On lifting the U.S. Cuban embargo and allowing...   \n",
       "10239   pants-fire  The Department of Veterans Affairs has a manua...   \n",
       "\n",
       "                          subject state_info party_affiliation  \n",
       "10235           animals,elections    Florida              none  \n",
       "10236                   elections    Georgia        republican  \n",
       "10237  retirement,social-security    Georgia        republican  \n",
       "10238      florida,foreign-policy    Florida          democrat  \n",
       "10239        health-care,veterans   Maryland        republican  "
      ]
     },
     "execution_count": 28,
     "metadata": {},
     "output_type": "execute_result"
    }
   ],
   "source": [
    "#dropping columns\n",
    "columnsToRemovePar = ['id', 'speaker', 'context','speaker_job_title', 'barely_true_counts', 'false_counts', 'half_true_counts', 'mostly_true_counts', 'pants_on_fire_counts']\n",
    "dataTrainPar = dataTrainPar.drop(columns=columnsToRemovePar)\n",
    "dataValidatePar = dataValidatePar.drop(columns=columnsToRemovePar)\n",
    "dataTestPar = dataTestPar.drop(columns=columnsToRemovePar)\n",
    "dataTrainPar.tail()"
   ]
  },
  {
   "cell_type": "markdown",
   "metadata": {},
   "source": [
    "# Converting all labels to just true and false. True, mostly-true and half-true are converted to true, where as false, barely-true and pants-fire are converted to false"
   ]
  },
  {
   "cell_type": "code",
   "execution_count": 29,
   "metadata": {},
   "outputs": [
    {
     "data": {
      "text/html": [
       "<div>\n",
       "<style scoped>\n",
       "    .dataframe tbody tr th:only-of-type {\n",
       "        vertical-align: middle;\n",
       "    }\n",
       "\n",
       "    .dataframe tbody tr th {\n",
       "        vertical-align: top;\n",
       "    }\n",
       "\n",
       "    .dataframe thead th {\n",
       "        text-align: right;\n",
       "    }\n",
       "</style>\n",
       "<table border=\"1\" class=\"dataframe\">\n",
       "  <thead>\n",
       "    <tr style=\"text-align: right;\">\n",
       "      <th></th>\n",
       "      <th>label</th>\n",
       "      <th>statement</th>\n",
       "      <th>subject</th>\n",
       "      <th>state_info</th>\n",
       "      <th>party_affiliation</th>\n",
       "    </tr>\n",
       "  </thead>\n",
       "  <tbody>\n",
       "    <tr>\n",
       "      <th>10235</th>\n",
       "      <td>true</td>\n",
       "      <td>There are a larger number of shark attacks in ...</td>\n",
       "      <td>animals,elections</td>\n",
       "      <td>Florida</td>\n",
       "      <td>none</td>\n",
       "    </tr>\n",
       "    <tr>\n",
       "      <th>10236</th>\n",
       "      <td>true</td>\n",
       "      <td>Democrats have now become the party of the [At...</td>\n",
       "      <td>elections</td>\n",
       "      <td>Georgia</td>\n",
       "      <td>republican</td>\n",
       "    </tr>\n",
       "    <tr>\n",
       "      <th>10237</th>\n",
       "      <td>true</td>\n",
       "      <td>Says an alternative to Social Security that op...</td>\n",
       "      <td>retirement,social-security</td>\n",
       "      <td>Georgia</td>\n",
       "      <td>republican</td>\n",
       "    </tr>\n",
       "    <tr>\n",
       "      <th>10238</th>\n",
       "      <td>false</td>\n",
       "      <td>On lifting the U.S. Cuban embargo and allowing...</td>\n",
       "      <td>florida,foreign-policy</td>\n",
       "      <td>Florida</td>\n",
       "      <td>democrat</td>\n",
       "    </tr>\n",
       "    <tr>\n",
       "      <th>10239</th>\n",
       "      <td>false</td>\n",
       "      <td>The Department of Veterans Affairs has a manua...</td>\n",
       "      <td>health-care,veterans</td>\n",
       "      <td>Maryland</td>\n",
       "      <td>republican</td>\n",
       "    </tr>\n",
       "  </tbody>\n",
       "</table>\n",
       "</div>"
      ],
      "text/plain": [
       "       label                                          statement  \\\n",
       "10235   true  There are a larger number of shark attacks in ...   \n",
       "10236   true  Democrats have now become the party of the [At...   \n",
       "10237   true  Says an alternative to Social Security that op...   \n",
       "10238  false  On lifting the U.S. Cuban embargo and allowing...   \n",
       "10239  false  The Department of Veterans Affairs has a manua...   \n",
       "\n",
       "                          subject state_info party_affiliation  \n",
       "10235           animals,elections    Florida              none  \n",
       "10236                   elections    Georgia        republican  \n",
       "10237  retirement,social-security    Georgia        republican  \n",
       "10238      florida,foreign-policy    Florida          democrat  \n",
       "10239        health-care,veterans   Maryland        republican  "
      ]
     },
     "execution_count": 29,
     "metadata": {},
     "output_type": "execute_result"
    }
   ],
   "source": [
    "dataTrainPar['label'] = dataTrainPar.apply(convertMulticlassToBinaryclass, axis=1)\n",
    "dataValidatePar['label'] = dataValidatePar.apply(convertMulticlassToBinaryclass, axis=1)\n",
    "dataTestPar['label'] = dataTestPar.apply(convertMulticlassToBinaryclass, axis=1)\n",
    "dataTrainPar.tail()"
   ]
  },
  {
   "cell_type": "markdown",
   "metadata": {},
   "source": [
    "# List all the parties present in the dataset"
   ]
  },
  {
   "cell_type": "code",
   "execution_count": 30,
   "metadata": {},
   "outputs": [
    {
     "name": "stdout",
     "output_type": "stream",
     "text": [
      "['Moderate', 'activist', 'business-leader', 'columnist', 'constitution-party', 'democrat', 'democratic-farmer-labor', 'education-official', 'government-body', 'green', 'independent', 'journalist', 'labor-leader', 'liberal-party-canada', 'libertarian', 'nan', 'newsmaker', 'none', 'ocean-state-tea-party-action', 'organization', 'republican', 'state-official', 'talk-show-host', 'tea-party-member']\n"
     ]
    }
   ],
   "source": [
    "party_types = sorted(dataTrainPar['party_affiliation'].astype(str).unique())\n",
    "print (party_types)"
   ]
  },
  {
   "cell_type": "code",
   "execution_count": 31,
   "metadata": {},
   "outputs": [
    {
     "name": "stdout",
     "output_type": "stream",
     "text": [
      "24\n"
     ]
    }
   ],
   "source": [
    "print(len(party_types))\n"
   ]
  },
  {
   "cell_type": "markdown",
   "metadata": {},
   "source": [
    "There are 24 different parties in the dataset "
   ]
  },
  {
   "cell_type": "markdown",
   "metadata": {},
   "source": [
    "# Identifying the significance of each party in the dataset "
   ]
  },
  {
   "cell_type": "code",
   "execution_count": 32,
   "metadata": {},
   "outputs": [
    {
     "data": {
      "image/png": "[encoded data removed]",
      "text/plain": [
       "<Figure size 1152x720 with 1 Axes>"
      ]
     },
     "metadata": {
      "needs_background": "light"
     },
     "output_type": "display_data"
    }
   ],
   "source": [
    "dataTrainPar.groupby('party_affiliation').count()[['state_info']].rename(\n",
    "    columns={'state_info': 'count'}).sort_values(\n",
    "    'count', ascending=False).reset_index().plot.bar(\n",
    "        x='party_affiliation', y='count', figsize=(16, 10), fontsize=18);"
   ]
  },
  {
   "cell_type": "markdown",
   "metadata": {},
   "source": [
    "From the graph above, the three main parties republican, democrat and none constitute 90% of the dataset. \n",
    "We use only these three parties for political affiliation and ignore the rest of the parties"
   ]
  },
  {
   "cell_type": "markdown",
   "metadata": {},
   "source": [
    "# Retaining only democrat, republican and none for bias calculation"
   ]
  },
  {
   "cell_type": "code",
   "execution_count": 33,
   "metadata": {},
   "outputs": [
    {
     "data": {
      "text/html": [
       "<div>\n",
       "<style scoped>\n",
       "    .dataframe tbody tr th:only-of-type {\n",
       "        vertical-align: middle;\n",
       "    }\n",
       "\n",
       "    .dataframe tbody tr th {\n",
       "        vertical-align: top;\n",
       "    }\n",
       "\n",
       "    .dataframe thead th {\n",
       "        text-align: right;\n",
       "    }\n",
       "</style>\n",
       "<table border=\"1\" class=\"dataframe\">\n",
       "  <thead>\n",
       "    <tr style=\"text-align: right;\">\n",
       "      <th></th>\n",
       "      <th>label</th>\n",
       "      <th>statement</th>\n",
       "      <th>subject</th>\n",
       "      <th>state_info</th>\n",
       "      <th>party_affiliation</th>\n",
       "    </tr>\n",
       "  </thead>\n",
       "  <tbody>\n",
       "    <tr>\n",
       "      <th>1261</th>\n",
       "      <td>false</td>\n",
       "      <td>Sen. Bob Menendez voted to enact a new tax on ...</td>\n",
       "      <td>health-care,housing,income,taxes</td>\n",
       "      <td>NaN</td>\n",
       "      <td>none</td>\n",
       "    </tr>\n",
       "    <tr>\n",
       "      <th>1262</th>\n",
       "      <td>true</td>\n",
       "      <td>Says his budget provides the highest state fun...</td>\n",
       "      <td>education</td>\n",
       "      <td>Florida</td>\n",
       "      <td>republican</td>\n",
       "    </tr>\n",
       "    <tr>\n",
       "      <th>1263</th>\n",
       "      <td>false</td>\n",
       "      <td>Ive been here almost every day.</td>\n",
       "      <td>civil-rights,crime,criminal-justice</td>\n",
       "      <td>Missouri</td>\n",
       "      <td>democrat</td>\n",
       "    </tr>\n",
       "    <tr>\n",
       "      <th>1265</th>\n",
       "      <td>false</td>\n",
       "      <td>Says an EPA permit languished under Strickland...</td>\n",
       "      <td>environment,government-efficiency</td>\n",
       "      <td>Ohio</td>\n",
       "      <td>republican</td>\n",
       "    </tr>\n",
       "    <tr>\n",
       "      <th>1266</th>\n",
       "      <td>false</td>\n",
       "      <td>Says the governor is going around the state ta...</td>\n",
       "      <td>state-budget,state-finances,taxes</td>\n",
       "      <td>NaN</td>\n",
       "      <td>democrat</td>\n",
       "    </tr>\n",
       "  </tbody>\n",
       "</table>\n",
       "</div>"
      ],
      "text/plain": [
       "      label                                          statement  \\\n",
       "1261  false  Sen. Bob Menendez voted to enact a new tax on ...   \n",
       "1262   true  Says his budget provides the highest state fun...   \n",
       "1263  false                    Ive been here almost every day.   \n",
       "1265  false  Says an EPA permit languished under Strickland...   \n",
       "1266  false  Says the governor is going around the state ta...   \n",
       "\n",
       "                                  subject state_info party_affiliation  \n",
       "1261     health-care,housing,income,taxes        NaN              none  \n",
       "1262                            education    Florida        republican  \n",
       "1263  civil-rights,crime,criminal-justice   Missouri          democrat  \n",
       "1265    environment,government-efficiency       Ohio        republican  \n",
       "1266    state-budget,state-finances,taxes        NaN          democrat  "
      ]
     },
     "execution_count": 33,
     "metadata": {},
     "output_type": "execute_result"
    }
   ],
   "source": [
    "\n",
    "rowsToRemove = ['Moderate', 'activist', 'business-leader', 'columnist', 'constitution-party', 'democratic-farmer-labor', 'education-official', 'government-body', 'green', 'independent', 'journalist', 'labor-leader', 'liberal-party-canada', 'libertarian', 'nan', 'newsmaker', 'ocean-state-tea-party-action', 'organization', 'state-official', 'talk-show-host', 'tea-party-member']\n",
    "\n",
    "dataTrainPar = dataTrainPar[dataTrainPar.party_affiliation != 'Moderate']\n",
    "dataTrainPar = dataTrainPar[dataTrainPar.party_affiliation != 'activist']\n",
    "dataTrainPar = dataTrainPar[dataTrainPar.party_affiliation != 'business-leader']\n",
    "dataTrainPar = dataTrainPar[dataTrainPar.party_affiliation != 'columnist']\n",
    "dataTrainPar = dataTrainPar[dataTrainPar.party_affiliation != 'constitution-party']\n",
    "dataTrainPar = dataTrainPar[dataTrainPar.party_affiliation != 'democratic-farmer-labor']\n",
    "dataTrainPar = dataTrainPar[dataTrainPar.party_affiliation != 'education-official']\n",
    "dataTrainPar = dataTrainPar[dataTrainPar.party_affiliation != 'government-body']\n",
    "dataTrainPar = dataTrainPar[dataTrainPar.party_affiliation != 'green']\n",
    "dataTrainPar = dataTrainPar[dataTrainPar.party_affiliation != 'independent']\n",
    "dataTrainPar = dataTrainPar[dataTrainPar.party_affiliation != 'journalist']\n",
    "dataTrainPar = dataTrainPar[dataTrainPar.party_affiliation != 'labor-leader']\n",
    "dataTrainPar = dataTrainPar[dataTrainPar.party_affiliation != 'liberal-party-canada']\n",
    "dataTrainPar = dataTrainPar[dataTrainPar.party_affiliation != 'libertarian']\n",
    "dataTrainPar = dataTrainPar[dataTrainPar.party_affiliation != 'nan']\n",
    "dataTrainPar = dataTrainPar[dataTrainPar.party_affiliation != 'newsmaker']\n",
    "dataTrainPar = dataTrainPar[dataTrainPar.party_affiliation != 'ocean-state-tea-party-action']\n",
    "dataTrainPar = dataTrainPar[dataTrainPar.party_affiliation != 'organization']\n",
    "dataTrainPar = dataTrainPar[dataTrainPar.party_affiliation != 'state-official']\n",
    "dataTrainPar = dataTrainPar[dataTrainPar.party_affiliation != 'talk-show-host']\n",
    "dataTrainPar = dataTrainPar[dataTrainPar.party_affiliation != 'tea-party-member']\n",
    "\n",
    "\n",
    "dataTestPar = dataTestPar[dataTestPar.party_affiliation != 'Moderate']\n",
    "dataTestPar = dataTestPar[dataTestPar.party_affiliation != 'activist']\n",
    "dataTestPar = dataTestPar[dataTestPar.party_affiliation != 'business-leader']\n",
    "dataTestPar = dataTestPar[dataTestPar.party_affiliation != 'columnist']\n",
    "dataTestPar = dataTestPar[dataTestPar.party_affiliation != 'constitution-party']\n",
    "dataTestPar = dataTestPar[dataTestPar.party_affiliation != 'democratic-farmer-labor']\n",
    "dataTestPar = dataTestPar[dataTestPar.party_affiliation != 'education-official']\n",
    "dataTestPar = dataTestPar[dataTestPar.party_affiliation != 'government-body']\n",
    "dataTestPar = dataTestPar[dataTestPar.party_affiliation != 'green']\n",
    "dataTestPar = dataTestPar[dataTestPar.party_affiliation != 'independent']\n",
    "dataTestPar = dataTestPar[dataTestPar.party_affiliation != 'journalist']\n",
    "dataTestPar = dataTestPar[dataTestPar.party_affiliation != 'labor-leader']\n",
    "dataTestPar = dataTestPar[dataTestPar.party_affiliation != 'liberal-party-canada']\n",
    "dataTestPar = dataTestPar[dataTestPar.party_affiliation != 'libertarian']\n",
    "dataTestPar = dataTestPar[dataTestPar.party_affiliation != 'nan']\n",
    "dataTestPar = dataTestPar[dataTestPar.party_affiliation != 'newsmaker']\n",
    "dataTestPar = dataTestPar[dataTestPar.party_affiliation != 'ocean-state-tea-party-action']\n",
    "dataTestPar = dataTestPar[dataTestPar.party_affiliation != 'organization']\n",
    "dataTestPar = dataTestPar[dataTestPar.party_affiliation != 'state-official']\n",
    "dataTestPar = dataTestPar[dataTestPar.party_affiliation != 'talk-show-host']\n",
    "dataTestPar = dataTestPar[dataTestPar.party_affiliation != 'tea-party-member']\n",
    "dataTrainPar.tail()\n",
    "dataTestPar.tail()"
   ]
  },
  {
   "cell_type": "markdown",
   "metadata": {},
   "source": [
    "# After removing other non significant parties"
   ]
  },
  {
   "cell_type": "code",
   "execution_count": 34,
   "metadata": {},
   "outputs": [
    {
     "data": {
      "text/plain": [
       "array(['republican', 'democrat', 'none', nan], dtype=object)"
      ]
     },
     "execution_count": 34,
     "metadata": {},
     "output_type": "execute_result"
    }
   ],
   "source": [
    "dataTrainPar.party_affiliation.unique()"
   ]
  },
  {
   "cell_type": "code",
   "execution_count": 35,
   "metadata": {},
   "outputs": [],
   "source": [
    "dataTrainPar['party_str'] = dataTrainPar['party_affiliation'].astype(str)\n",
    "dataTestPar['party_str'] = dataTestPar['party_affiliation'].astype(str)"
   ]
  },
  {
   "cell_type": "markdown",
   "metadata": {},
   "source": [
    "# Calculating LDA for Topic modeling"
   ]
  },
  {
   "cell_type": "code",
   "execution_count": 36,
   "metadata": {},
   "outputs": [
    {
     "name": "stdout",
     "output_type": "stream",
     "text": [
      "0     Says the Annies List political group supports ...\n",
      "1     When did the decline of coal start? It started...\n",
      "2     Hillary Clinton agrees with John McCain \"by vo...\n",
      "3     Health care reform legislation is likely to ma...\n",
      "4     The economic turnaround started at the end of ...\n",
      "5     The Chicago Bears have had more starting quart...\n",
      "6     Jim Dunnam has not lived in the district he re...\n",
      "7     I'm the only person on this stage who has work...\n",
      "9     Says GOP primary opponents Glenn Grothman and ...\n",
      "10    For the first time in history, the share of th...\n",
      "Name: statement, dtype: object\n",
      "[['say', 'annies', 'list', 'political', 'group', 'support', 'thirdtrimester', 'abortion', 'demand'], ['decline', 'coal', 'start', 'started', 'natural', 'gas', 'took', 'started', 'begin', 'president', 'george', 'w', 'bush', 'administration'], ['hillary', 'clinton', 'agrees', 'john', 'mccain', 'by', 'voting', 'give', 'george', 'bush', 'benefit', 'doubt', 'iran'], ['health', 'care', 'reform', 'legislation', 'likely', 'mandate', 'free', 'sex', 'change', 'surgery'], ['economic', 'turnaround', 'started', 'end', 'term'], ['chicago', 'bear', 'starting', 'quarterback', 'last', '10', 'year', 'total', 'number', 'tenured', 'uw', 'faculty', 'fired', 'last', 'two', 'decade'], ['jim', 'dunnam', 'lived', 'district', 'represents', 'year', 'now'], ['im', 'person', 'stage', 'worked', 'actively', 'last', 'year', 'passing', 'along', 'rus', 'feingold', 'toughest', 'ethic', 'reform', 'since', 'watergate'], ['say', 'gop', 'primary', 'opponent', 'glenn', 'grothman', 'joe', 'leibham', 'cast', 'compromise', 'vote', 'cost', '788', 'million', 'higher', 'electricity', 'cost'], ['first', 'time', 'history', 'share', 'national', 'popular', 'vote', 'margin', 'smaller', 'latino', 'vote', 'margin']]\n",
      "[(0, '0.035*\"vote\" + 0.035*\"margin\" + 0.020*\"reform\"'), (1, '0.024*\"bush\" + 0.024*\"george\" + 0.024*\"give\"'), (2, '0.032*\"last\" + 0.032*\"started\" + 0.023*\"year\"')]\n"
     ]
    }
   ],
   "source": [
    "        doc_complete = dataTrainPar['statement'][:10]\n",
    "        print(doc_complete)\n",
    "        doc_clean = [clean(doc).split() for doc in doc_complete]\n",
    "        print(doc_clean)\n",
    "        \n",
    "        #Preparing a document term matrix\n",
    "        # Creating the term dictionary of our corpus, where every unique term is assigned an index. \n",
    "        dictionary = corpora.Dictionary(doc_clean)\n",
    "\n",
    "        # Converting list of documents (corpus) into Document Term Matrix using dictionary prepared above.\n",
    "        doc_term_matrix = [dictionary.doc2bow(doc) for doc in doc_clean]\n",
    "        \n",
    "        #Genarate an LDA Model\n",
    "        \n",
    "        \n",
    "        # Creating the object for LDA model using gensim library\n",
    "        Lda = gensim.models.ldamodel.LdaModel\n",
    "\n",
    "        # Running and Trainign LDA model on the document term matrix.\n",
    "        ldamodel = Lda(doc_term_matrix, num_topics=3, id2word = dictionary, passes=50)\n",
    "        \n",
    "        print(ldamodel.print_topics(num_topics=3, num_words=3))\n",
    "\n",
    "        \n",
    "        "
   ]
  },
  {
   "cell_type": "markdown",
   "metadata": {},
   "source": [
    "# Using Porter Stemmer, Word Net Lemmatizer and calculate TF-IDF values to obtain features"
   ]
  },
  {
   "cell_type": "code",
   "execution_count": 37,
   "metadata": {},
   "outputs": [
    {
     "name": "stdout",
     "output_type": "stream",
     "text": [
      "Stemmed - 9120\n",
      "Lemmatized - 11350\n",
      "        0     1     2     3     4     5     6     7     8     9     ...   \\\n",
      "0   0.000000   0.0   0.0   0.0   0.0   0.0   0.0   0.0   0.0   0.0  ...    \n",
      "1   0.000000   0.0   0.0   0.0   0.0   0.0   0.0   0.0   0.0   0.0  ...    \n",
      "2   0.000000   0.0   0.0   0.0   0.0   0.0   0.0   0.0   0.0   0.0  ...    \n",
      "3   0.000000   0.0   0.0   0.0   0.0   0.0   0.0   0.0   0.0   0.0  ...    \n",
      "4   0.000000   0.0   0.0   0.0   0.0   0.0   0.0   0.0   0.0   0.0  ...    \n",
      "5   0.000000   0.0   0.0   0.0   0.0   0.0   0.0   0.0   0.0   0.0  ...    \n",
      "6   0.000000   0.0   0.0   0.0   0.0   0.0   0.0   0.0   0.0   0.0  ...    \n",
      "7   0.000000   0.0   0.0   0.0   0.0   0.0   0.0   0.0   0.0   0.0  ...    \n",
      "8   0.000000   0.0   0.0   0.0   0.0   0.0   0.0   0.0   0.0   0.0  ...    \n",
      "9   0.000000   0.0   0.0   0.0   0.0   0.0   0.0   0.0   0.0   0.0  ...    \n",
      "10  0.000000   0.0   0.0   0.0   0.0   0.0   0.0   0.0   0.0   0.0  ...    \n",
      "11  0.000000   0.0   0.0   0.0   0.0   0.0   0.0   0.0   0.0   0.0  ...    \n",
      "12  0.276314   0.0   0.0   0.0   0.0   0.0   0.0   0.0   0.0   0.0  ...    \n",
      "13  0.000000   0.0   0.0   0.0   0.0   0.0   0.0   0.0   0.0   0.0  ...    \n",
      "14  0.000000   0.0   0.0   0.0   0.0   0.0   0.0   0.0   0.0   0.0  ...    \n",
      "\n",
      "    9110  9111  9112  9113  9114  9115  9116  9117  9118  9119  \n",
      "0    0.0   0.0   0.0   0.0   0.0   0.0   0.0   0.0   0.0   0.0  \n",
      "1    0.0   0.0   0.0   0.0   0.0   0.0   0.0   0.0   0.0   0.0  \n",
      "2    0.0   0.0   0.0   0.0   0.0   0.0   0.0   0.0   0.0   0.0  \n",
      "3    0.0   0.0   0.0   0.0   0.0   0.0   0.0   0.0   0.0   0.0  \n",
      "4    0.0   0.0   0.0   0.0   0.0   0.0   0.0   0.0   0.0   0.0  \n",
      "5    0.0   0.0   0.0   0.0   0.0   0.0   0.0   0.0   0.0   0.0  \n",
      "6    0.0   0.0   0.0   0.0   0.0   0.0   0.0   0.0   0.0   0.0  \n",
      "7    0.0   0.0   0.0   0.0   0.0   0.0   0.0   0.0   0.0   0.0  \n",
      "8    0.0   0.0   0.0   0.0   0.0   0.0   0.0   0.0   0.0   0.0  \n",
      "9    0.0   0.0   0.0   0.0   0.0   0.0   0.0   0.0   0.0   0.0  \n",
      "10   0.0   0.0   0.0   0.0   0.0   0.0   0.0   0.0   0.0   0.0  \n",
      "11   0.0   0.0   0.0   0.0   0.0   0.0   0.0   0.0   0.0   0.0  \n",
      "12   0.0   0.0   0.0   0.0   0.0   0.0   0.0   0.0   0.0   0.0  \n",
      "13   0.0   0.0   0.0   0.0   0.0   0.0   0.0   0.0   0.0   0.0  \n",
      "14   0.0   0.0   0.0   0.0   0.0   0.0   0.0   0.0   0.0   0.0  \n",
      "\n",
      "[15 rows x 9120 columns]\n",
      "        greaterwisconsinpoliticalfund  unsign  sitin  vow  delta  grass  \\\n",
      "0  0.0                            0.0     0.0    0.0  0.0    0.0    0.0   \n",
      "1  0.0                            0.0     0.0    0.0  0.0    0.0    0.0   \n",
      "2  0.0                            0.0     0.0    0.0  0.0    0.0    0.0   \n",
      "3  0.0                            0.0     0.0    0.0  0.0    0.0    0.0   \n",
      "4  0.0                            0.0     0.0    0.0  0.0    0.0    0.0   \n",
      "\n",
      "   someon  bewild  util  ...    fair  454260  rosemari  spiritu  57000  iraq  \\\n",
      "0     0.0     0.0   0.0  ...     0.0     0.0       0.0      0.0    0.0   0.0   \n",
      "1     0.0     0.0   0.0  ...     0.0     0.0       0.0      0.0    0.0   0.0   \n",
      "2     0.0     0.0   0.0  ...     0.0     0.0       0.0      0.0    0.0   0.0   \n",
      "3     0.0     0.0   0.0  ...     0.0     0.0       0.0      0.0    0.0   0.0   \n",
      "4     0.0     0.0   0.0  ...     0.0     0.0       0.0      0.0    0.0   0.0   \n",
      "\n",
      "   fault  search  antichrist  diner  \n",
      "0    0.0     0.0         0.0    0.0  \n",
      "1    0.0     0.0         0.0    0.0  \n",
      "2    0.0     0.0         0.0    0.0  \n",
      "3    0.0     0.0         0.0    0.0  \n",
      "4    0.0     0.0         0.0    0.0  \n",
      "\n",
      "[5 rows x 9120 columns]\n",
      "                               sum_scores_TFIDF\n",
      "                                       6.310451\n",
      "greaterwisconsinpoliticalfund          3.954607\n",
      "unsign                                 0.301793\n",
      "sitin                                  0.664182\n",
      "vow                                    0.525789\n",
      "delta                                  0.513505\n",
      "grass                                  0.358151\n",
      "someon                                 0.909851\n",
      "bewild                                 0.509040\n",
      "util                                   0.403312\n",
      "            sum_scores_TFIDF\n",
      "strateg             0.038581\n",
      "dayton              0.038581\n",
      "acupunctur          0.038581\n",
      "1600                0.038581\n",
      "simpl               0.038581\n",
      "         sum_scores_TFIDF\n",
      "pandem         290.340496\n",
      "andso          194.135662\n",
      "gold           178.402617\n",
      "risk           175.632650\n",
      "estonia        173.415492\n"
     ]
    }
   ],
   "source": [
    "        ps = PorterStemmer()\n",
    "        wn = nltk.WordNetLemmatizer()\n",
    "        vectstem = TfidfVectorizer(analyzer=clean_stem)\n",
    "        vectlemm = TfidfVectorizer(analyzer=clean_lemma)\n",
    "\n",
    "        textfeatures=vectstem.fit_transform(dataTrainPar['statement'].values)\n",
    "        print(\"Stemmed - \" + str(len(vectstem.get_feature_names())))\n",
    "\n",
    "        vectlemm.fit_transform(dataTrainPar['statement'].values)\n",
    "        print(\"Lemmatized - \" + str(len(vectlemm.get_feature_names())))\n",
    "        \n",
    "        print(pd.DataFrame(textfeatures.toarray()).head(15))\n",
    "        \n",
    "        textmatrix = pd.DataFrame(textfeatures.toarray(),columns=vectstem.vocabulary_)\n",
    "        print(textmatrix.head(5))\n",
    "        \n",
    "        sum_scores = pd.DataFrame(textmatrix.sum(),columns=['sum_scores_TFIDF'])\n",
    "        print(sum_scores.head(10))\n",
    "        \n",
    "        \n",
    "        # Need to see most important words in the statements\n",
    "        # words used by many people or less frequent in sentences\n",
    "        print(sum_scores.sort_values(by='sum_scores_TFIDF',ascending=True)[:5])\n",
    "        \n",
    "        #high usage of words in statements\n",
    "        \n",
    "        print(sum_scores.sort_values(by='sum_scores_TFIDF',ascending=False)[:5])"
   ]
  },
  {
   "cell_type": "markdown",
   "metadata": {},
   "source": [
    "# Predicting truth level"
   ]
  },
  {
   "cell_type": "code",
   "execution_count": 38,
   "metadata": {},
   "outputs": [
    {
     "data": {
      "text/plain": [
       "<matplotlib.axes._subplots.AxesSubplot at 0x1a2846bda0>"
      ]
     },
     "execution_count": 38,
     "metadata": {},
     "output_type": "execute_result"
    },
    {
     "data": {
      "image/png": "[encoded data removed]",
      "text/plain": [
       "<Figure size 432x288 with 1 Axes>"
      ]
     },
     "metadata": {
      "needs_background": "light"
     },
     "output_type": "display_data"
    }
   ],
   "source": [
    "\n",
    "dataTrainPar.groupby('label').count()[['party_affiliation']].reset_index().plot.bar(x='label', y='party_affiliation')"
   ]
  },
  {
   "cell_type": "markdown",
   "metadata": {},
   "source": [
    "# Democrat most used words"
   ]
  },
  {
   "cell_type": "code",
   "execution_count": 39,
   "metadata": {},
   "outputs": [
    {
     "name": "stdout",
     "output_type": "stream",
     "text": [
      "Democrat most used words\n",
      "['act', 'actually', 'administration', 'america', 'americans', 'barack', 'bush', 'campaign', 'candidate', 'city', 'class', 'clinton', 'college', 'companies', 'congress', 'cost', 'costs', 'county', 'created', 'cuts', 'day', 'debt', 'deficit', 'did', 'dollars', 'donald', 'dont', 'economy', 'education', 'families', 'florida', 'funding', 'going', 'government', 'governor', 'gun', 'half', 'higher', 'highest', 'history', 'house', 'income', 'job', 'john', 'just', 'like', 'make', 'mccain', 'medicare', 'middle', 'mitt', 'months', 'nation', 'national', 'nearly', 'number', 'office', 'paid', 'passed', 'private', 'program', 'public', 'rates', 'reform', 'rep', 'republicans', 'rhode', 'rick', 'right', 'romney', 'school', 'schools', 'security', 'sen', 'senate', 'single', 'social', 'spending', 'support', 't', 'times', 'today', 'took', 'trump', 'unemployment', 'vote', 'walker', 'wants', 'weve', 'world']\n"
     ]
    },
    {
     "data": {
      "text/html": [
       "<div>\n",
       "<style scoped>\n",
       "    .dataframe tbody tr th:only-of-type {\n",
       "        vertical-align: middle;\n",
       "    }\n",
       "\n",
       "    .dataframe tbody tr th {\n",
       "        vertical-align: top;\n",
       "    }\n",
       "\n",
       "    .dataframe thead th {\n",
       "        text-align: right;\n",
       "    }\n",
       "</style>\n",
       "<table border=\"1\" class=\"dataframe\">\n",
       "  <thead>\n",
       "    <tr style=\"text-align: right;\">\n",
       "      <th></th>\n",
       "      <th>label</th>\n",
       "      <th>statement</th>\n",
       "      <th>subject</th>\n",
       "      <th>state_info</th>\n",
       "      <th>party_affiliation</th>\n",
       "      <th>party_str</th>\n",
       "    </tr>\n",
       "  </thead>\n",
       "  <tbody>\n",
       "    <tr>\n",
       "      <th>10220</th>\n",
       "      <td>true</td>\n",
       "      <td>Says he and Mitt Romney agreed on tying minimu...</td>\n",
       "      <td>poverty,workers</td>\n",
       "      <td>Illinois</td>\n",
       "      <td>democrat</td>\n",
       "      <td>democrat</td>\n",
       "    </tr>\n",
       "    <tr>\n",
       "      <th>10224</th>\n",
       "      <td>false</td>\n",
       "      <td>In 2012, the state put together a list of over...</td>\n",
       "      <td>elections</td>\n",
       "      <td>Florida</td>\n",
       "      <td>democrat</td>\n",
       "      <td>democrat</td>\n",
       "    </tr>\n",
       "    <tr>\n",
       "      <th>10233</th>\n",
       "      <td>false</td>\n",
       "      <td>Mayor Fung wants to punish our childrens educa...</td>\n",
       "      <td>children,city-budget,deficit,education,state-b...</td>\n",
       "      <td>Rhode Island</td>\n",
       "      <td>democrat</td>\n",
       "      <td>democrat</td>\n",
       "    </tr>\n",
       "    <tr>\n",
       "      <th>10234</th>\n",
       "      <td>true</td>\n",
       "      <td>Under the ruling of the Supreme Court, any lob...</td>\n",
       "      <td>corporations,elections</td>\n",
       "      <td>NaN</td>\n",
       "      <td>democrat</td>\n",
       "      <td>democrat</td>\n",
       "    </tr>\n",
       "    <tr>\n",
       "      <th>10238</th>\n",
       "      <td>false</td>\n",
       "      <td>On lifting the U.S. Cuban embargo and allowing...</td>\n",
       "      <td>florida,foreign-policy</td>\n",
       "      <td>Florida</td>\n",
       "      <td>democrat</td>\n",
       "      <td>democrat</td>\n",
       "    </tr>\n",
       "  </tbody>\n",
       "</table>\n",
       "</div>"
      ],
      "text/plain": [
       "       label                                          statement  \\\n",
       "10220   true  Says he and Mitt Romney agreed on tying minimu...   \n",
       "10224  false  In 2012, the state put together a list of over...   \n",
       "10233  false  Mayor Fung wants to punish our childrens educa...   \n",
       "10234   true  Under the ruling of the Supreme Court, any lob...   \n",
       "10238  false  On lifting the U.S. Cuban embargo and allowing...   \n",
       "\n",
       "                                                 subject    state_info  \\\n",
       "10220                                    poverty,workers      Illinois   \n",
       "10224                                          elections       Florida   \n",
       "10233  children,city-budget,deficit,education,state-b...  Rhode Island   \n",
       "10234                             corporations,elections           NaN   \n",
       "10238                             florida,foreign-policy       Florida   \n",
       "\n",
       "      party_affiliation party_str  \n",
       "10220          democrat  democrat  \n",
       "10224          democrat  democrat  \n",
       "10233          democrat  democrat  \n",
       "10234          democrat  democrat  \n",
       "10238          democrat  democrat  "
      ]
     },
     "execution_count": 39,
     "metadata": {},
     "output_type": "execute_result"
    }
   ],
   "source": [
    "\n",
    "#\n",
    "countDemV = CountVectorizer(stop_words='english', min_df=40, max_df=80, token_pattern=u'(?ui)\\\\b\\\\w*[a-z]+\\\\w*\\\\b')\n",
    "#dataTrainDem = dataTrainPar[dataTrainPar['party_str'] != 'republican']\n",
    "#dataTrainDem = dataTrainPar[dataTrainPar['party_str'] != 'none']\n",
    "dataTrainDem= dataTrainPar\n",
    "dataTrainDem = dataTrainPar.loc[dataTrainPar['party_str'] == 'democrat']\n",
    "dem_count = countDemV.fit_transform(dataTrainDem['statement'].values)\n",
    "\n",
    "#dataTestDem = dataTestPar[dataTestPar.party_affiliation != 'republican']\n",
    "#dataTestDem = dataTestPar[dataTestPar.party_affiliation != 'none']\n",
    "\n",
    "dataTestDem= dataTestPar\n",
    "dataTestDem = dataTestPar.loc[dataTestPar['party_str'] == 'democrat']\n",
    "\n",
    "\n",
    "print('Democrat most used words')\n",
    "print(countDemV.get_feature_names())\n",
    "dataTrainDem.tail()\n",
    "\n"
   ]
  },
  {
   "cell_type": "markdown",
   "metadata": {},
   "source": [
    "# Republican most used words"
   ]
  },
  {
   "cell_type": "code",
   "execution_count": 40,
   "metadata": {},
   "outputs": [
    {
     "data": {
      "text/html": [
       "<div>\n",
       "<style scoped>\n",
       "    .dataframe tbody tr th:only-of-type {\n",
       "        vertical-align: middle;\n",
       "    }\n",
       "\n",
       "    .dataframe tbody tr th {\n",
       "        vertical-align: top;\n",
       "    }\n",
       "\n",
       "    .dataframe thead th {\n",
       "        text-align: right;\n",
       "    }\n",
       "</style>\n",
       "<table border=\"1\" class=\"dataframe\">\n",
       "  <thead>\n",
       "    <tr style=\"text-align: right;\">\n",
       "      <th></th>\n",
       "      <th>label</th>\n",
       "      <th>statement</th>\n",
       "      <th>subject</th>\n",
       "      <th>state_info</th>\n",
       "      <th>party_affiliation</th>\n",
       "      <th>party_str</th>\n",
       "    </tr>\n",
       "  </thead>\n",
       "  <tbody>\n",
       "    <tr>\n",
       "      <th>10230</th>\n",
       "      <td>false</td>\n",
       "      <td>The Supreme Courts views are radically out of ...</td>\n",
       "      <td>gays-and-lesbians,polls,supreme-court</td>\n",
       "      <td>Texas</td>\n",
       "      <td>republican</td>\n",
       "      <td>republican</td>\n",
       "    </tr>\n",
       "    <tr>\n",
       "      <th>10231</th>\n",
       "      <td>true</td>\n",
       "      <td>When it comes to the state deficit, Wisconsin ...</td>\n",
       "      <td>state-budget</td>\n",
       "      <td>Wisconsin</td>\n",
       "      <td>republican</td>\n",
       "      <td>republican</td>\n",
       "    </tr>\n",
       "    <tr>\n",
       "      <th>10236</th>\n",
       "      <td>true</td>\n",
       "      <td>Democrats have now become the party of the [At...</td>\n",
       "      <td>elections</td>\n",
       "      <td>Georgia</td>\n",
       "      <td>republican</td>\n",
       "      <td>republican</td>\n",
       "    </tr>\n",
       "    <tr>\n",
       "      <th>10237</th>\n",
       "      <td>true</td>\n",
       "      <td>Says an alternative to Social Security that op...</td>\n",
       "      <td>retirement,social-security</td>\n",
       "      <td>Georgia</td>\n",
       "      <td>republican</td>\n",
       "      <td>republican</td>\n",
       "    </tr>\n",
       "    <tr>\n",
       "      <th>10239</th>\n",
       "      <td>false</td>\n",
       "      <td>The Department of Veterans Affairs has a manua...</td>\n",
       "      <td>health-care,veterans</td>\n",
       "      <td>Maryland</td>\n",
       "      <td>republican</td>\n",
       "      <td>republican</td>\n",
       "    </tr>\n",
       "  </tbody>\n",
       "</table>\n",
       "</div>"
      ],
      "text/plain": [
       "       label                                          statement  \\\n",
       "10230  false  The Supreme Courts views are radically out of ...   \n",
       "10231   true  When it comes to the state deficit, Wisconsin ...   \n",
       "10236   true  Democrats have now become the party of the [At...   \n",
       "10237   true  Says an alternative to Social Security that op...   \n",
       "10239  false  The Department of Veterans Affairs has a manua...   \n",
       "\n",
       "                                     subject state_info party_affiliation  \\\n",
       "10230  gays-and-lesbians,polls,supreme-court      Texas        republican   \n",
       "10231                           state-budget  Wisconsin        republican   \n",
       "10236                              elections    Georgia        republican   \n",
       "10237             retirement,social-security    Georgia        republican   \n",
       "10239                   health-care,veterans   Maryland        republican   \n",
       "\n",
       "        party_str  \n",
       "10230  republican  \n",
       "10231  republican  \n",
       "10236  republican  \n",
       "10237  republican  \n",
       "10239  republican  "
      ]
     },
     "execution_count": 40,
     "metadata": {},
     "output_type": "execute_result"
    }
   ],
   "source": [
    "\n",
    "countRepV = CountVectorizer(stop_words='english', min_df=20, max_df=40, token_pattern=u'(?ui)\\\\b\\\\w*[a-z]+\\\\w*\\\\b')\n",
    "#dataTrainRep = dataTrainPar[dataTrainPar.party_affiliation != 'democrat']\n",
    "#dataTrainRep = dataTrainPar[dataTrainPar.party_affiliation != 'none']\n",
    "dataTrainRep= dataTrainPar\n",
    "dataTrainRep = dataTrainPar.loc[dataTrainPar['party_str'] == 'republican']\n",
    "rep_count = countRepV.fit_transform(dataTrainRep['statement'].values)\n",
    "\n",
    "\n",
    "#dataTestRep = dataTestPar[dataTestPar.party_affiliation != 'democrat']\n",
    "#dataTestRep = dataTestPar[dataTestPar.party_affiliation != 'none']\n",
    "dataTestRep = dataTrainPar.loc[dataTrainPar['party_str'] == 'republican']\n",
    "#print('Republican most used words')\n",
    "dataTrainRep.tail()\n",
    "#print(countRepV.get_feature_names())\n"
   ]
  },
  {
   "cell_type": "markdown",
   "metadata": {},
   "source": [
    "# Party Affiliation from the headline\n",
    "lets compare the headlines with these tokens. If the headlines match with the demoracratic tokens\n",
    "and if tha party is democratic, then we assign true else false. If the headlines match with \n",
    "republican tokens and their party affiliation is republic we assign true else false.\n",
    "for party_affiliation none, we assign true all the time"
   ]
  },
  {
   "cell_type": "code",
   "execution_count": 41,
   "metadata": {},
   "outputs": [
    {
     "name": "stderr",
     "output_type": "stream",
     "text": [
      "/anaconda3/lib/python3.5/site-packages/ipykernel_launcher.py:25: SettingWithCopyWarning: \n",
      "A value is trying to be set on a copy of a slice from a DataFrame.\n",
      "Try using .loc[row_indexer,col_indexer] = value instead\n",
      "\n",
      "See the caveats in the documentation: http://pandas.pydata.org/pandas-docs/stable/indexing.html#indexing-view-versus-copy\n",
      "/anaconda3/lib/python3.5/site-packages/ipykernel_launcher.py:27: SettingWithCopyWarning: \n",
      "A value is trying to be set on a copy of a slice from a DataFrame.\n",
      "Try using .loc[row_indexer,col_indexer] = value instead\n",
      "\n",
      "See the caveats in the documentation: http://pandas.pydata.org/pandas-docs/stable/indexing.html#indexing-view-versus-copy\n",
      "/anaconda3/lib/python3.5/site-packages/ipykernel_launcher.py:29: SettingWithCopyWarning: \n",
      "A value is trying to be set on a copy of a slice from a DataFrame.\n",
      "Try using .loc[row_indexer,col_indexer] = value instead\n",
      "\n",
      "See the caveats in the documentation: http://pandas.pydata.org/pandas-docs/stable/indexing.html#indexing-view-versus-copy\n",
      "/anaconda3/lib/python3.5/site-packages/ipykernel_launcher.py:31: SettingWithCopyWarning: \n",
      "A value is trying to be set on a copy of a slice from a DataFrame.\n",
      "Try using .loc[row_indexer,col_indexer] = value instead\n",
      "\n",
      "See the caveats in the documentation: http://pandas.pydata.org/pandas-docs/stable/indexing.html#indexing-view-versus-copy\n",
      "/anaconda3/lib/python3.5/site-packages/ipykernel_launcher.py:33: SettingWithCopyWarning: \n",
      "A value is trying to be set on a copy of a slice from a DataFrame.\n",
      "Try using .loc[row_indexer,col_indexer] = value instead\n",
      "\n",
      "See the caveats in the documentation: http://pandas.pydata.org/pandas-docs/stable/indexing.html#indexing-view-versus-copy\n",
      "/anaconda3/lib/python3.5/site-packages/ipykernel_launcher.py:35: SettingWithCopyWarning: \n",
      "A value is trying to be set on a copy of a slice from a DataFrame.\n",
      "Try using .loc[row_indexer,col_indexer] = value instead\n",
      "\n",
      "See the caveats in the documentation: http://pandas.pydata.org/pandas-docs/stable/indexing.html#indexing-view-versus-copy\n",
      "/anaconda3/lib/python3.5/site-packages/ipykernel_launcher.py:37: SettingWithCopyWarning: \n",
      "A value is trying to be set on a copy of a slice from a DataFrame.\n",
      "Try using .loc[row_indexer,col_indexer] = value instead\n",
      "\n",
      "See the caveats in the documentation: http://pandas.pydata.org/pandas-docs/stable/indexing.html#indexing-view-versus-copy\n",
      "/anaconda3/lib/python3.5/site-packages/ipykernel_launcher.py:39: SettingWithCopyWarning: \n",
      "A value is trying to be set on a copy of a slice from a DataFrame.\n",
      "Try using .loc[row_indexer,col_indexer] = value instead\n",
      "\n",
      "See the caveats in the documentation: http://pandas.pydata.org/pandas-docs/stable/indexing.html#indexing-view-versus-copy\n"
     ]
    },
    {
     "data": {
      "text/html": [
       "<div>\n",
       "<style scoped>\n",
       "    .dataframe tbody tr th:only-of-type {\n",
       "        vertical-align: middle;\n",
       "    }\n",
       "\n",
       "    .dataframe tbody tr th {\n",
       "        vertical-align: top;\n",
       "    }\n",
       "\n",
       "    .dataframe thead th {\n",
       "        text-align: right;\n",
       "    }\n",
       "</style>\n",
       "<table border=\"1\" class=\"dataframe\">\n",
       "  <thead>\n",
       "    <tr style=\"text-align: right;\">\n",
       "      <th></th>\n",
       "      <th>label</th>\n",
       "      <th>statement</th>\n",
       "      <th>subject</th>\n",
       "      <th>state_info</th>\n",
       "      <th>party_affiliation</th>\n",
       "      <th>party_str</th>\n",
       "      <th>subject_str</th>\n",
       "      <th>label_str</th>\n",
       "    </tr>\n",
       "  </thead>\n",
       "  <tbody>\n",
       "    <tr>\n",
       "      <th>10235</th>\n",
       "      <td>true</td>\n",
       "      <td>There are a larger number of shark attacks in ...</td>\n",
       "      <td>animals,elections</td>\n",
       "      <td>Florida</td>\n",
       "      <td>none</td>\n",
       "      <td>none</td>\n",
       "      <td>[animals,elections]</td>\n",
       "      <td>true</td>\n",
       "    </tr>\n",
       "    <tr>\n",
       "      <th>10236</th>\n",
       "      <td>true</td>\n",
       "      <td>Democrats have now become the party of the [At...</td>\n",
       "      <td>elections</td>\n",
       "      <td>Georgia</td>\n",
       "      <td>republican</td>\n",
       "      <td>republican</td>\n",
       "      <td>[elections]</td>\n",
       "      <td>true</td>\n",
       "    </tr>\n",
       "    <tr>\n",
       "      <th>10237</th>\n",
       "      <td>true</td>\n",
       "      <td>Says an alternative to Social Security that op...</td>\n",
       "      <td>retirement,social-security</td>\n",
       "      <td>Georgia</td>\n",
       "      <td>republican</td>\n",
       "      <td>republican</td>\n",
       "      <td>[retirement,social-security]</td>\n",
       "      <td>false</td>\n",
       "    </tr>\n",
       "    <tr>\n",
       "      <th>10238</th>\n",
       "      <td>false</td>\n",
       "      <td>On lifting the U.S. Cuban embargo and allowing...</td>\n",
       "      <td>florida,foreign-policy</td>\n",
       "      <td>Florida</td>\n",
       "      <td>democrat</td>\n",
       "      <td>democrat</td>\n",
       "      <td>[florida,foreign-policy]</td>\n",
       "      <td>true</td>\n",
       "    </tr>\n",
       "    <tr>\n",
       "      <th>10239</th>\n",
       "      <td>false</td>\n",
       "      <td>The Department of Veterans Affairs has a manua...</td>\n",
       "      <td>health-care,veterans</td>\n",
       "      <td>Maryland</td>\n",
       "      <td>republican</td>\n",
       "      <td>republican</td>\n",
       "      <td>[health-care,veterans]</td>\n",
       "      <td>false</td>\n",
       "    </tr>\n",
       "  </tbody>\n",
       "</table>\n",
       "</div>"
      ],
      "text/plain": [
       "       label                                          statement  \\\n",
       "10235   true  There are a larger number of shark attacks in ...   \n",
       "10236   true  Democrats have now become the party of the [At...   \n",
       "10237   true  Says an alternative to Social Security that op...   \n",
       "10238  false  On lifting the U.S. Cuban embargo and allowing...   \n",
       "10239  false  The Department of Veterans Affairs has a manua...   \n",
       "\n",
       "                          subject state_info party_affiliation   party_str  \\\n",
       "10235           animals,elections    Florida              none        none   \n",
       "10236                   elections    Georgia        republican  republican   \n",
       "10237  retirement,social-security    Georgia        republican  republican   \n",
       "10238      florida,foreign-policy    Florida          democrat    democrat   \n",
       "10239        health-care,veterans   Maryland        republican  republican   \n",
       "\n",
       "                        subject_str label_str  \n",
       "10235           [animals,elections]      true  \n",
       "10236                   [elections]      true  \n",
       "10237  [retirement,social-security]     false  \n",
       "10238      [florida,foreign-policy]      true  \n",
       "10239        [health-care,veterans]     false  "
      ]
     },
     "execution_count": 41,
     "metadata": {},
     "output_type": "execute_result"
    }
   ],
   "source": [
    "\n",
    "\n",
    "def partyAffiliationFromHeadline(r):\n",
    "    v = r['subject_str']\n",
    "    p = r['party_str']\n",
    "    if (p =='democrat'):\n",
    "        s2 = set(countDemV.get_feature_names())\n",
    "    if (p =='republican'):\n",
    "        s2 = set(countRepV.get_feature_names())\n",
    "    if (p != 'democract' and p !='republican'):\n",
    "        return 'true'        \n",
    "    if set(v).intersection(s2):\n",
    "        return 'true'\n",
    "    else:\n",
    "        return 'false'\n",
    "\n",
    "dataTrainPar['subject_str'] = dataTrainPar['subject'].astype(str).str.split() \n",
    "#dataTrainPar['party_str'] = dataTrainPar['party_affiliation'].astype(str)\n",
    "dataTrainPar['label_str'] = dataTrainPar.apply(partyAffiliationFromHeadline, axis=1)\n",
    "\n",
    "dataTestPar['subject_str'] = dataTestPar['subject'].astype(str).str.split() \n",
    "#dataTrainPar['party_str'] = dataTrainPar['party_affiliation'].astype(str)\n",
    "dataTestPar['label_str'] = dataTestPar.apply(partyAffiliationFromHeadline, axis=1)\n",
    "\n",
    "dataTrainDem['subject_str'] = dataTrainDem['subject'].astype(str).str.split() \n",
    "#dataTrainDem['party_str'] = dataTrainDem['party_affiliation'].astype(str)\n",
    "dataTrainDem['label_str'] = dataTrainDem.apply(partyAffiliationFromHeadline, axis=1)\n",
    "\n",
    "dataTrainRep['subject_str'] = dataTrainRep['subject'].astype(str).str.split() \n",
    "#dataTrainRep['party_str'] = dataTrainRep['party_affiliation'].astype(str)\n",
    "dataTrainRep['label_str'] = dataTrainRep.apply(partyAffiliationFromHeadline, axis=1)\n",
    "\n",
    "dataTestDem['subject_str'] = dataTestDem['subject'].astype(str).str.split() \n",
    "#dataTestDem['party_str'] = dataTestDem['party_affiliation'].astype(str)\n",
    "dataTestDem['label_str'] = dataTestDem.apply(partyAffiliationFromHeadline, axis=1)\n",
    "\n",
    "dataTestRep['subject_str'] = dataTestRep['subject'].astype(str).str.split() \n",
    "#dataTestRep['party_str'] = dataTestRep['party_affiliation'].astype(str)\n",
    "dataTestRep['label_str'] = dataTestRep.apply(partyAffiliationFromHeadline, axis=1)\n",
    "\n",
    "dataTrainPar.tail()"
   ]
  },
  {
   "cell_type": "code",
   "execution_count": 42,
   "metadata": {},
   "outputs": [
    {
     "data": {
      "text/plain": [
       "array(['true', 'false'], dtype=object)"
      ]
     },
     "execution_count": 42,
     "metadata": {},
     "output_type": "execute_result"
    }
   ],
   "source": [
    "dataTrainDem.label.unique()"
   ]
  },
  {
   "cell_type": "code",
   "execution_count": 43,
   "metadata": {},
   "outputs": [
    {
     "data": {
      "text/plain": [
       "array(['true', 'false'], dtype=object)"
      ]
     },
     "execution_count": 43,
     "metadata": {},
     "output_type": "execute_result"
    }
   ],
   "source": [
    "dataTrainRep.label_str.unique()"
   ]
  },
  {
   "cell_type": "code",
   "execution_count": 44,
   "metadata": {},
   "outputs": [
    {
     "data": {
      "text/plain": [
       "array(['true'], dtype=object)"
      ]
     },
     "execution_count": 44,
     "metadata": {},
     "output_type": "execute_result"
    }
   ],
   "source": [
    "dataTrainDem.label_str.unique()"
   ]
  },
  {
   "cell_type": "code",
   "execution_count": 45,
   "metadata": {},
   "outputs": [
    {
     "data": {
      "text/html": [
       "<div>\n",
       "<style scoped>\n",
       "    .dataframe tbody tr th:only-of-type {\n",
       "        vertical-align: middle;\n",
       "    }\n",
       "\n",
       "    .dataframe tbody tr th {\n",
       "        vertical-align: top;\n",
       "    }\n",
       "\n",
       "    .dataframe thead th {\n",
       "        text-align: right;\n",
       "    }\n",
       "</style>\n",
       "<table border=\"1\" class=\"dataframe\">\n",
       "  <thead>\n",
       "    <tr style=\"text-align: right;\">\n",
       "      <th></th>\n",
       "      <th>label</th>\n",
       "      <th>statement</th>\n",
       "      <th>subject</th>\n",
       "      <th>state_info</th>\n",
       "      <th>party_affiliation</th>\n",
       "      <th>party_str</th>\n",
       "      <th>subject_str</th>\n",
       "      <th>label_str</th>\n",
       "    </tr>\n",
       "  </thead>\n",
       "  <tbody>\n",
       "    <tr>\n",
       "      <th>10220</th>\n",
       "      <td>true</td>\n",
       "      <td>Says he and Mitt Romney agreed on tying minimu...</td>\n",
       "      <td>poverty,workers</td>\n",
       "      <td>Illinois</td>\n",
       "      <td>democrat</td>\n",
       "      <td>democrat</td>\n",
       "      <td>[poverty,workers]</td>\n",
       "      <td>true</td>\n",
       "    </tr>\n",
       "    <tr>\n",
       "      <th>10224</th>\n",
       "      <td>false</td>\n",
       "      <td>In 2012, the state put together a list of over...</td>\n",
       "      <td>elections</td>\n",
       "      <td>Florida</td>\n",
       "      <td>democrat</td>\n",
       "      <td>democrat</td>\n",
       "      <td>[elections]</td>\n",
       "      <td>true</td>\n",
       "    </tr>\n",
       "    <tr>\n",
       "      <th>10233</th>\n",
       "      <td>false</td>\n",
       "      <td>Mayor Fung wants to punish our childrens educa...</td>\n",
       "      <td>children,city-budget,deficit,education,state-b...</td>\n",
       "      <td>Rhode Island</td>\n",
       "      <td>democrat</td>\n",
       "      <td>democrat</td>\n",
       "      <td>[children,city-budget,deficit,education,state-...</td>\n",
       "      <td>true</td>\n",
       "    </tr>\n",
       "    <tr>\n",
       "      <th>10234</th>\n",
       "      <td>true</td>\n",
       "      <td>Under the ruling of the Supreme Court, any lob...</td>\n",
       "      <td>corporations,elections</td>\n",
       "      <td>NaN</td>\n",
       "      <td>democrat</td>\n",
       "      <td>democrat</td>\n",
       "      <td>[corporations,elections]</td>\n",
       "      <td>true</td>\n",
       "    </tr>\n",
       "    <tr>\n",
       "      <th>10238</th>\n",
       "      <td>false</td>\n",
       "      <td>On lifting the U.S. Cuban embargo and allowing...</td>\n",
       "      <td>florida,foreign-policy</td>\n",
       "      <td>Florida</td>\n",
       "      <td>democrat</td>\n",
       "      <td>democrat</td>\n",
       "      <td>[florida,foreign-policy]</td>\n",
       "      <td>true</td>\n",
       "    </tr>\n",
       "  </tbody>\n",
       "</table>\n",
       "</div>"
      ],
      "text/plain": [
       "       label                                          statement  \\\n",
       "10220   true  Says he and Mitt Romney agreed on tying minimu...   \n",
       "10224  false  In 2012, the state put together a list of over...   \n",
       "10233  false  Mayor Fung wants to punish our childrens educa...   \n",
       "10234   true  Under the ruling of the Supreme Court, any lob...   \n",
       "10238  false  On lifting the U.S. Cuban embargo and allowing...   \n",
       "\n",
       "                                                 subject    state_info  \\\n",
       "10220                                    poverty,workers      Illinois   \n",
       "10224                                          elections       Florida   \n",
       "10233  children,city-budget,deficit,education,state-b...  Rhode Island   \n",
       "10234                             corporations,elections           NaN   \n",
       "10238                             florida,foreign-policy       Florida   \n",
       "\n",
       "      party_affiliation party_str  \\\n",
       "10220          democrat  democrat   \n",
       "10224          democrat  democrat   \n",
       "10233          democrat  democrat   \n",
       "10234          democrat  democrat   \n",
       "10238          democrat  democrat   \n",
       "\n",
       "                                             subject_str label_str  \n",
       "10220                                  [poverty,workers]      true  \n",
       "10224                                        [elections]      true  \n",
       "10233  [children,city-budget,deficit,education,state-...      true  \n",
       "10234                           [corporations,elections]      true  \n",
       "10238                           [florida,foreign-policy]      true  "
      ]
     },
     "execution_count": 45,
     "metadata": {},
     "output_type": "execute_result"
    }
   ],
   "source": [
    "dataTrainDem.tail()"
   ]
  },
  {
   "cell_type": "code",
   "execution_count": 46,
   "metadata": {},
   "outputs": [
    {
     "data": {
      "text/html": [
       "<div>\n",
       "<style scoped>\n",
       "    .dataframe tbody tr th:only-of-type {\n",
       "        vertical-align: middle;\n",
       "    }\n",
       "\n",
       "    .dataframe tbody tr th {\n",
       "        vertical-align: top;\n",
       "    }\n",
       "\n",
       "    .dataframe thead th {\n",
       "        text-align: right;\n",
       "    }\n",
       "</style>\n",
       "<table border=\"1\" class=\"dataframe\">\n",
       "  <thead>\n",
       "    <tr style=\"text-align: right;\">\n",
       "      <th></th>\n",
       "      <th>label</th>\n",
       "      <th>statement</th>\n",
       "      <th>subject</th>\n",
       "      <th>state_info</th>\n",
       "      <th>party_affiliation</th>\n",
       "      <th>party_str</th>\n",
       "      <th>subject_str</th>\n",
       "      <th>label_str</th>\n",
       "    </tr>\n",
       "  </thead>\n",
       "  <tbody>\n",
       "    <tr>\n",
       "      <th>10230</th>\n",
       "      <td>false</td>\n",
       "      <td>The Supreme Courts views are radically out of ...</td>\n",
       "      <td>gays-and-lesbians,polls,supreme-court</td>\n",
       "      <td>Texas</td>\n",
       "      <td>republican</td>\n",
       "      <td>republican</td>\n",
       "      <td>[gays-and-lesbians,polls,supreme-court]</td>\n",
       "      <td>false</td>\n",
       "    </tr>\n",
       "    <tr>\n",
       "      <th>10231</th>\n",
       "      <td>true</td>\n",
       "      <td>When it comes to the state deficit, Wisconsin ...</td>\n",
       "      <td>state-budget</td>\n",
       "      <td>Wisconsin</td>\n",
       "      <td>republican</td>\n",
       "      <td>republican</td>\n",
       "      <td>[state-budget]</td>\n",
       "      <td>false</td>\n",
       "    </tr>\n",
       "    <tr>\n",
       "      <th>10236</th>\n",
       "      <td>true</td>\n",
       "      <td>Democrats have now become the party of the [At...</td>\n",
       "      <td>elections</td>\n",
       "      <td>Georgia</td>\n",
       "      <td>republican</td>\n",
       "      <td>republican</td>\n",
       "      <td>[elections]</td>\n",
       "      <td>true</td>\n",
       "    </tr>\n",
       "    <tr>\n",
       "      <th>10237</th>\n",
       "      <td>true</td>\n",
       "      <td>Says an alternative to Social Security that op...</td>\n",
       "      <td>retirement,social-security</td>\n",
       "      <td>Georgia</td>\n",
       "      <td>republican</td>\n",
       "      <td>republican</td>\n",
       "      <td>[retirement,social-security]</td>\n",
       "      <td>false</td>\n",
       "    </tr>\n",
       "    <tr>\n",
       "      <th>10239</th>\n",
       "      <td>false</td>\n",
       "      <td>The Department of Veterans Affairs has a manua...</td>\n",
       "      <td>health-care,veterans</td>\n",
       "      <td>Maryland</td>\n",
       "      <td>republican</td>\n",
       "      <td>republican</td>\n",
       "      <td>[health-care,veterans]</td>\n",
       "      <td>false</td>\n",
       "    </tr>\n",
       "  </tbody>\n",
       "</table>\n",
       "</div>"
      ],
      "text/plain": [
       "       label                                          statement  \\\n",
       "10230  false  The Supreme Courts views are radically out of ...   \n",
       "10231   true  When it comes to the state deficit, Wisconsin ...   \n",
       "10236   true  Democrats have now become the party of the [At...   \n",
       "10237   true  Says an alternative to Social Security that op...   \n",
       "10239  false  The Department of Veterans Affairs has a manua...   \n",
       "\n",
       "                                     subject state_info party_affiliation  \\\n",
       "10230  gays-and-lesbians,polls,supreme-court      Texas        republican   \n",
       "10231                           state-budget  Wisconsin        republican   \n",
       "10236                              elections    Georgia        republican   \n",
       "10237             retirement,social-security    Georgia        republican   \n",
       "10239                   health-care,veterans   Maryland        republican   \n",
       "\n",
       "        party_str                              subject_str label_str  \n",
       "10230  republican  [gays-and-lesbians,polls,supreme-court]     false  \n",
       "10231  republican                           [state-budget]     false  \n",
       "10236  republican                              [elections]      true  \n",
       "10237  republican             [retirement,social-security]     false  \n",
       "10239  republican                   [health-care,veterans]     false  "
      ]
     },
     "execution_count": 46,
     "metadata": {},
     "output_type": "execute_result"
    }
   ],
   "source": [
    "dataTrainRep.tail()"
   ]
  },
  {
   "cell_type": "markdown",
   "metadata": {},
   "source": [
    "# Now we can classify based on the training set "
   ]
  },
  {
   "cell_type": "code",
   "execution_count": 47,
   "metadata": {},
   "outputs": [
    {
     "name": "stdout",
     "output_type": "stream",
     "text": [
      "accuracy:   0.805\n",
      "Confusion matrix, without normalization\n"
     ]
    },
    {
     "data": {
      "image/png": "[encoded data removed]",
      "text/plain": [
       "<Figure size 432x288 with 2 Axes>"
      ]
     },
     "metadata": {
      "needs_background": "light"
     },
     "output_type": "display_data"
    }
   ],
   "source": [
    "\n",
    "\n",
    "import numpy as np\n",
    "import pandas as pd\n",
    "import pickle\n",
    "from sklearn.feature_extraction.text import CountVectorizer\n",
    "from sklearn.feature_extraction.text import TfidfTransformer\n",
    "from sklearn.feature_extraction.text import TfidfVectorizer\n",
    "from sklearn.pipeline import Pipeline\n",
    "from sklearn.naive_bayes import MultinomialNB\n",
    "from sklearn.linear_model import  LogisticRegression\n",
    "from sklearn.linear_model import SGDClassifier\n",
    "from sklearn import svm\n",
    "from sklearn.ensemble import RandomForestClassifier\n",
    "from sklearn.cross_validation import KFold\n",
    "from sklearn.metrics import confusion_matrix, f1_score, classification_report\n",
    "from sklearn.model_selection import GridSearchCV\n",
    "from sklearn.model_selection import learning_curve\n",
    "import matplotlib.pyplot as plt\n",
    "from sklearn.metrics import precision_recall_curve\n",
    "from sklearn.metrics import average_precision_score\n",
    "\n",
    "#building classifier using naive bayes for countVectorizer\n",
    "nb_pipeline = Pipeline([\n",
    "        ('NV',countDemV),\n",
    "        ('n_clf',MultinomialNB())])\n",
    "\n",
    "dataTrainDem.dropna()\n",
    "dataTrainDem.dropna(axis=0, how='any')\n",
    "dataTestDem.dropna(axis=0, how='any')\n",
    "dataTrainDem = dataTrainDem[pd.notnull(dataTrainDem['party_str'])]\n",
    "dataTrainDem.tail()\n",
    "nb_pipeline.fit(dataTrainPar['statement'], dataTrainPar['label_str'])\n",
    "predicted_nb = nb_pipeline.predict(dataTestPar['statement'])\n",
    "np.mean(predicted_nb == dataTestPar['label_str'])\n",
    "\n",
    "#calcuated the accuracy\n",
    "score = metrics.accuracy_score(dataTestPar['label_str'], predicted_nb)\n",
    "score = score + scores\n",
    "print(\"accuracy:   %0.3f\" % score)\n",
    "\n",
    "# genrating confusion matrix\n",
    "cm = metrics.confusion_matrix(dataTestPar['label_str'], predicted_nb, labels=['false', 'true'])\n",
    "plot_confusion_matrix(cm, classes=['false', 'true'])"
   ]
  },
  {
   "cell_type": "markdown",
   "metadata": {},
   "source": [
    "# Logistic regression with TFIDF"
   ]
  },
  {
   "cell_type": "code",
   "execution_count": 48,
   "metadata": {},
   "outputs": [],
   "source": [
    "\n",
    "logR_pipeline = Pipeline([\n",
    "        ('LogRCV', tfidfV),\n",
    "        ('LogR_clf',LogisticRegression())\n",
    "        ])\n",
    "\n",
    "logR_pipeline.fit(dataTrainPar['statement'],dataTrainPar['label_str'])\n",
    "predicted_LogR = logR_pipeline.predict(dataTestPar['statement'])\n"
   ]
  },
  {
   "cell_type": "code",
   "execution_count": 49,
   "metadata": {},
   "outputs": [
    {
     "name": "stdout",
     "output_type": "stream",
     "text": [
      "accuracy:   0.834\n",
      "Confusion matrix, without normalization\n"
     ]
    },
    {
     "data": {
      "image/png": "[encoded data removed]",
      "text/plain": [
       "<Figure size 432x288 with 2 Axes>"
      ]
     },
     "metadata": {
      "needs_background": "light"
     },
     "output_type": "display_data"
    }
   ],
   "source": [
    "score = metrics.accuracy_score(dataTestPar['label_str'], predicted_LogR)\n",
    "score = score + scores\n",
    "print(\"accuracy:   %0.3f\" % score)\n",
    "\n",
    "cm = metrics.confusion_matrix(dataTestPar['label_str'], predicted_LogR, labels=['false', 'true'])\n",
    "plot_confusion_matrix(cm, classes=['false', 'true'])"
   ]
  },
  {
   "cell_type": "markdown",
   "metadata": {},
   "source": [
    "# Linear SVM classfier with count vectorizer"
   ]
  },
  {
   "cell_type": "code",
   "execution_count": 50,
   "metadata": {},
   "outputs": [],
   "source": [
    "\n",
    "svm_pipeline = Pipeline([\n",
    "        ('svmCV',countV),\n",
    "        ('svm_clf',svm.LinearSVC())\n",
    "        ])\n",
    "\n",
    "svm_pipeline.fit(dataTrainPar['statement'],dataTrainPar['label_str'])\n",
    "predicted_svm = svm_pipeline.predict(dataTestPar['statement'])\n"
   ]
  },
  {
   "cell_type": "code",
   "execution_count": 51,
   "metadata": {},
   "outputs": [
    {
     "name": "stdout",
     "output_type": "stream",
     "text": [
      "accuracy:   0.810\n",
      "Confusion matrix, without normalization\n"
     ]
    },
    {
     "data": {
      "image/png": "[encoded data removed]",
      "text/plain": [
       "<Figure size 432x288 with 2 Axes>"
      ]
     },
     "metadata": {
      "needs_background": "light"
     },
     "output_type": "display_data"
    }
   ],
   "source": [
    "# calculate accuracy\n",
    "score = metrics.accuracy_score(dataTestPar['label_str'], predicted_svm)\n",
    "score = score + scores\n",
    "print(\"accuracy:   %0.3f\" % score)\n",
    "\n",
    "#plot confusion matrix\n",
    "cm = metrics.confusion_matrix(dataTestPar['label_str'], predicted_svm, labels=['false', 'true'])\n",
    "plot_confusion_matrix(cm, classes=['false', 'true'])"
   ]
  },
  {
   "cell_type": "markdown",
   "metadata": {},
   "source": [
    "# Random Forest classfier with  count vectorizer"
   ]
  },
  {
   "cell_type": "code",
   "execution_count": 52,
   "metadata": {},
   "outputs": [],
   "source": [
    "\n",
    "random_forest = Pipeline([\n",
    "        ('rfCV', countDemV),\n",
    "        ('rf_clf',RandomForestClassifier(n_estimators=200,n_jobs=3))\n",
    "        ])\n",
    "    \n",
    "random_forest.fit(dataTrainPar['statement'],dataTrainPar['label_str'])\n",
    "predicted_rf = random_forest.predict(dataTestPar['statement'])\n"
   ]
  },
  {
   "cell_type": "code",
   "execution_count": 53,
   "metadata": {},
   "outputs": [
    {
     "name": "stdout",
     "output_type": "stream",
     "text": [
      "accuracy:   0.810\n",
      "Confusion matrix, without normalization\n"
     ]
    },
    {
     "data": {
      "image/png": "[encoded data removed]",
      "text/plain": [
       "<Figure size 432x288 with 2 Axes>"
      ]
     },
     "metadata": {
      "needs_background": "light"
     },
     "output_type": "display_data"
    }
   ],
   "source": [
    "#calculate accuracy\n",
    "score = metrics.accuracy_score(dataTestPar['label_str'], predicted_rf)\n",
    "score = score + scores\n",
    "print(\"accuracy:   %0.3f\" % score)\n",
    "\n",
    "#plot confusion matrix\n",
    "cm = metrics.confusion_matrix(dataTestPar['label_str'], predicted_rf, labels=['false', 'true'])\n",
    "plot_confusion_matrix(cm, classes=['false', 'true'])"
   ]
  },
  {
   "cell_type": "markdown",
   "metadata": {},
   "source": [
    "# Logistic regression with TF-IDF gave 83.4% accuracy for Party Affiliation"
   ]
  },
  {
   "cell_type": "code",
   "execution_count": null,
   "metadata": {},
   "outputs": [],
   "source": []
  }
 ],
 "metadata": {
  "kernelspec": {
   "display_name": "Python 3",
   "language": "python",
   "name": "python3"
  },
  "language_info": {
   "codemirror_mode": {
    "name": "ipython",
    "version": 3
   },
   "file_extension": ".py",
   "mimetype": "text/x-python",
   "name": "python",
   "nbconvert_exporter": "python",
   "pygments_lexer": "ipython3",
   "version": "3.5.5"
  }
 },
 "nbformat": 4,
 "nbformat_minor": 2
}
